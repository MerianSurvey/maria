{
 "cells": [
  {
   "cell_type": "code",
   "execution_count": 5,
   "metadata": {},
   "outputs": [
    {
     "name": "stdout",
     "output_type": "stream",
     "text": [
      "The autoreload extension is already loaded. To reload it, use:\n",
      "  %reload_ext autoreload\n"
     ]
    }
   ],
   "source": [
    "%load_ext autoreload\n",
    "%autoreload 2\n",
    "import sys\n",
    "sys.path.append('../')\n",
    "from maria.reader import *\n",
    "from maria import reader\n",
    "\n",
    "from astropy.table import Table\n",
    "import numpy as np\n",
    "import astropy.units as u"
   ]
  },
  {
   "cell_type": "code",
   "execution_count": 6,
   "metadata": {},
   "outputs": [],
   "source": [
    "summary = reader.read_summary_catalog()"
   ]
  },
  {
   "cell_type": "code",
   "execution_count": 13,
   "metadata": {},
   "outputs": [],
   "source": [
    "columns = [\n",
    "    # 'coord_ra_Merian', \n",
    "    # 'coord_dec_Merian',\n",
    "    # 'N708_cModelFlux_Merian',\n",
    "    # 'N708_cModelFluxErr_Merian',\n",
    "    'r_cModelFlux_Merian',\n",
    "    'r_cModelFluxErr_Merian',\n",
    "    # 'r_gaap1p0Flux_Merian', \n",
    "    # 'r_gaap1p0FluxErr_Merian', \n",
    "    # 'N708_gaap1p0Flux_Merian', \n",
    "    # 'N708_gaap1p0FluxErr_Merian',\n",
    "    # 'i_gaap1p0Flux_Merian', \n",
    "    # 'i_gaap1p0FluxErr_Merian'    \n",
    "]"
   ]
  },
  {
   "cell_type": "code",
   "execution_count": 14,
   "metadata": {},
   "outputs": [
    {
     "name": "stdout",
     "output_type": "stream",
     "text": [
      "Concatenating 355 tracts\n",
      "Processed 50/355 tracts after 19.26 sec\n",
      "Processed 100/355 tracts after 38.49 sec\n",
      "Processed 150/355 tracts after 57.49 sec\n",
      "Processed 200/355 tracts after 79.15 sec\n",
      "Processed 250/355 tracts after 95.97 sec\n",
      "Processed 300/355 tracts after 115.73 sec\n",
      "Processed 350/355 tracts after 133.98 sec\n"
     ]
    }
   ],
   "source": [
    "catalog = reader.assemble_catalog ( columns, usecode='betsy_example', verbose=True, usescratch=False )"
   ]
  },
  {
   "cell_type": "code",
   "execution_count": 15,
   "metadata": {},
   "outputs": [
    {
     "data": {
      "text/html": [
       "<div>\n",
       "<style scoped>\n",
       "    .dataframe tbody tr th:only-of-type {\n",
       "        vertical-align: middle;\n",
       "    }\n",
       "\n",
       "    .dataframe tbody tr th {\n",
       "        vertical-align: top;\n",
       "    }\n",
       "\n",
       "    .dataframe thead th {\n",
       "        text-align: right;\n",
       "    }\n",
       "</style>\n",
       "<table border=\"1\" class=\"dataframe\">\n",
       "  <thead>\n",
       "    <tr style=\"text-align: right;\">\n",
       "      <th></th>\n",
       "      <th>r_cModelFlux_Merian</th>\n",
       "      <th>r_cModelFluxErr_Merian</th>\n",
       "    </tr>\n",
       "  </thead>\n",
       "  <tbody>\n",
       "    <tr>\n",
       "      <th>3324804415138848708</th>\n",
       "      <td>95815.684977</td>\n",
       "      <td>149.653431</td>\n",
       "    </tr>\n",
       "    <tr>\n",
       "      <th>3324804415138848740</th>\n",
       "      <td>27583.457844</td>\n",
       "      <td>260.660232</td>\n",
       "    </tr>\n",
       "    <tr>\n",
       "      <th>3324804415138848863</th>\n",
       "      <td>49908.130532</td>\n",
       "      <td>139.283321</td>\n",
       "    </tr>\n",
       "    <tr>\n",
       "      <th>3324804415138849216</th>\n",
       "      <td>15204.964226</td>\n",
       "      <td>44.787074</td>\n",
       "    </tr>\n",
       "    <tr>\n",
       "      <th>3324804415138849379</th>\n",
       "      <td>26228.412765</td>\n",
       "      <td>162.259677</td>\n",
       "    </tr>\n",
       "    <tr>\n",
       "      <th>...</th>\n",
       "      <td>...</td>\n",
       "      <td>...</td>\n",
       "    </tr>\n",
       "    <tr>\n",
       "      <th>3339405929555708587</th>\n",
       "      <td>42473.431979</td>\n",
       "      <td>38.384002</td>\n",
       "    </tr>\n",
       "    <tr>\n",
       "      <th>3339405929555708588</th>\n",
       "      <td>22607.913465</td>\n",
       "      <td>31.563228</td>\n",
       "    </tr>\n",
       "    <tr>\n",
       "      <th>3339405929555708589</th>\n",
       "      <td>118025.194599</td>\n",
       "      <td>147.509906</td>\n",
       "    </tr>\n",
       "    <tr>\n",
       "      <th>3339405929555708614</th>\n",
       "      <td>16128.610047</td>\n",
       "      <td>27.485408</td>\n",
       "    </tr>\n",
       "    <tr>\n",
       "      <th>3339405929555708698</th>\n",
       "      <td>15976.86223</td>\n",
       "      <td>37.636507</td>\n",
       "    </tr>\n",
       "  </tbody>\n",
       "</table>\n",
       "<p>1762452 rows × 2 columns</p>\n",
       "</div>"
      ],
      "text/plain": [
       "                    r_cModelFlux_Merian r_cModelFluxErr_Merian\n",
       "3324804415138848708        95815.684977             149.653431\n",
       "3324804415138848740        27583.457844             260.660232\n",
       "3324804415138848863        49908.130532             139.283321\n",
       "3324804415138849216        15204.964226              44.787074\n",
       "3324804415138849379        26228.412765             162.259677\n",
       "...                                 ...                    ...\n",
       "3339405929555708587        42473.431979              38.384002\n",
       "3339405929555708588        22607.913465              31.563228\n",
       "3339405929555708589       118025.194599             147.509906\n",
       "3339405929555708614        16128.610047              27.485408\n",
       "3339405929555708698         15976.86223              37.636507\n",
       "\n",
       "[1762452 rows x 2 columns]"
      ]
     },
     "execution_count": 15,
     "metadata": {},
     "output_type": "execute_result"
    }
   ],
   "source": [
    "catalog"
   ]
  },
  {
   "cell_type": "code",
   "execution_count": null,
   "metadata": {},
   "outputs": [],
   "source": [
    "catalog.to_csv (\"wherever_you_want_to_save.csv\")"
   ]
  }
 ],
 "metadata": {
  "kernelspec": {
   "display_name": "Python 3 (ipykernel)",
   "language": "python",
   "name": "python3"
  },
  "language_info": {
   "codemirror_mode": {
    "name": "ipython",
    "version": 3
   },
   "file_extension": ".py",
   "mimetype": "text/x-python",
   "name": "python",
   "nbconvert_exporter": "python",
   "pygments_lexer": "ipython3",
   "version": "3.9.12"
  },
  "orig_nbformat": 4
 },
 "nbformat": 4,
 "nbformat_minor": 2
}
