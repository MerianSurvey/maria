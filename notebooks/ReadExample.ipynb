{
 "cells": [
  {
   "cell_type": "code",
   "execution_count": 1,
   "id": "e8815d67-fbba-4349-aa51-86f97ed80ee0",
   "metadata": {},
   "outputs": [],
   "source": [
    "%load_ext autoreload\n",
    "%autoreload 2"
   ]
  },
  {
   "cell_type": "code",
   "execution_count": 103,
   "id": "0fb79782-9440-4dd4-bf52-15d1e6073240",
   "metadata": {},
   "outputs": [],
   "source": [
    "import numpy as np\n",
    "import matplotlib.pyplot as plt\n",
    "from maria import reader"
   ]
  },
  {
   "cell_type": "code",
   "execution_count": 21,
   "id": "09beab19-7cf2-4bad-a057-9c1960059a09",
   "metadata": {},
   "outputs": [],
   "source": [
    "tract_catalog_path = \"/scratch/gpfs/sd8758/merian/catalog/S20A/$TRACTNUM/meriandr1_use_$TRACTNUM_S20A.fits\"\n",
    "summary_catalog_path = \"/scratch/gpfs/sd8758/merian/catalog/S20A/meriandr1_master_catalog.fits\""
   ]
  },
  {
   "cell_type": "code",
   "execution_count": 72,
   "id": "b9acf87a-6525-4446-a5a0-aa7cbc89c8e4",
   "metadata": {},
   "outputs": [],
   "source": [
    "summary  = reader.read_summary_catalog()"
   ]
  },
  {
   "cell_type": "code",
   "execution_count": 91,
   "id": "83e9ad9b-0caf-45ab-99a7-282f741540b0",
   "metadata": {},
   "outputs": [
    {
     "name": "stdout",
     "output_type": "stream",
     "text": [
      "Concatenating 356 tracts\n",
      "N708_gaap1p0Flux_Merian not in tract catalog 9107!\n",
      "N708_gaap1p0FluxErr_Merian not in tract catalog 9107!\n"
     ]
    }
   ],
   "source": [
    "columns = [\n",
    "    'coord_ra_Merian', \n",
    "    'coord_dec_Merian',\n",
    "    'r_gaap1p0Flux_Merian', \n",
    "    'r_gaap1p0FluxErr_Merian', \n",
    "    'N708_gaap1p0Flux_Merian', \n",
    "    'N708_gaap1p0FluxErr_Merian',\n",
    "    'i_gaap1p0Flux_Merian', \n",
    "    'i_gaap1p0FluxErr_Merian'    \n",
    "]"
   ]
  },
  {
   "cell_type": "code",
   "execution_count": 113,
   "id": "81e43683-6bc5-4dab-8248-c0810e5393d6",
   "metadata": {},
   "outputs": [],
   "source": [
    "cat = reader.read_tract_catalog ( 9107, usecode='n708_detect')"
   ]
  },
  {
   "cell_type": "code",
   "execution_count": null,
   "id": "e15e287f-f160-4546-ad8e-54ec9b47b659",
   "metadata": {},
   "outputs": [
    {
     "name": "stdout",
     "output_type": "stream",
     "text": [
      "Concatenating 355 tracts\n",
      "Processed 50/355 tracts after 52.52 sec\n",
      "Processed 100/355 tracts after 105.25 sec\n",
      "Processed 150/355 tracts after 147.02 sec\n",
      "Processed 200/355 tracts after 208.81 sec\n",
      "Processed 250/355 tracts after 256.02 sec\n",
      "Processed 300/355 tracts after 323.27 sec\n",
      "Processed 350/355 tracts after 372.76 sec\n"
     ]
    }
   ],
   "source": [
    "catalog = reader.assemble_catalog ( columns, usecode='n708_detect', verbose=True )"
   ]
  },
  {
   "cell_type": "code",
   "execution_count": null,
   "id": "4a13dc5b-6966-438f-953d-b78d078f5167",
   "metadata": {},
   "outputs": [],
   "source": [
    "catalog.head()"
   ]
  },
  {
   "cell_type": "code",
   "execution_count": null,
   "id": "7b50d9ca-6ada-4a45-bf85-2e46d4e09889",
   "metadata": {},
   "outputs": [],
   "source": []
  }
 ],
 "metadata": {
  "kernelspec": {
   "display_name": "Python 3 (ipykernel)",
   "language": "python",
   "name": "python3"
  },
  "language_info": {
   "codemirror_mode": {
    "name": "ipython",
    "version": 3
   },
   "file_extension": ".py",
   "mimetype": "text/x-python",
   "name": "python",
   "nbconvert_exporter": "python",
   "pygments_lexer": "ipython3",
   "version": "3.10.5"
  }
 },
 "nbformat": 4,
 "nbformat_minor": 5
}
