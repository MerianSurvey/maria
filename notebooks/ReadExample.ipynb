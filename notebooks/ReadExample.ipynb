{
 "cells": [
  {
   "cell_type": "code",
   "execution_count": 1,
   "id": "e8815d67-fbba-4349-aa51-86f97ed80ee0",
   "metadata": {},
   "outputs": [],
   "source": [
    "%load_ext autoreload\n",
    "%autoreload 2"
   ]
  },
  {
   "cell_type": "code",
   "execution_count": 2,
   "id": "0fb79782-9440-4dd4-bf52-15d1e6073240",
   "metadata": {},
   "outputs": [],
   "source": [
    "import numpy as np\n",
    "import matplotlib.pyplot as plt\n",
    "from astropy.io import ascii\n",
    "from astropy import coordinates\n",
    "from astropy import constants as co\n",
    "from astropy import units as u\n",
    "from maria import reader"
   ]
  },
  {
   "cell_type": "code",
   "execution_count": 5,
   "id": "69be844f-8699-4c0d-9c3a-c961ad4f9a8d",
   "metadata": {},
   "outputs": [],
   "source": [
    "import socket"
   ]
  },
  {
   "cell_type": "code",
   "execution_count": 6,
   "id": "b1237a3a-a40e-4367-af17-3bc1331a4be0",
   "metadata": {},
   "outputs": [
    {
     "data": {
      "text/plain": [
       "'tigressdata2.princeton.edu'"
      ]
     },
     "execution_count": 6,
     "metadata": {},
     "output_type": "execute_result"
    }
   ],
   "source": []
  },
  {
   "cell_type": "code",
   "execution_count": 9,
   "id": "09beab19-7cf2-4bad-a057-9c1960059a09",
   "metadata": {},
   "outputs": [],
   "source": [
    "hostname = socket.gethostname()\n",
    "if hostname == 'tigressdata2.princeton.edu':\n",
    "    prefix = '/tiger/scratch/'\n",
    "elif hostname == 'tiger2-sumire.princeton.edu':\n",
    "    prefix = '/scratch/'\n",
    "tract_catalog_path = f\"{prefix}gpfs/sd8758/merian/catalog/S20A/$TRACTNUM/meriandr1_use_$TRACTNUM_S20A.fits\"\n",
    "summary_catalog_path = f\"{prefix}gpfs/sd8758/merian/catalog/S20A/meriandr1_master_catalog.fits\""
   ]
  },
  {
   "cell_type": "code",
   "execution_count": 84,
   "id": "b9acf87a-6525-4446-a5a0-aa7cbc89c8e4",
   "metadata": {},
   "outputs": [
    {
     "name": "stdout",
     "output_type": "stream",
     "text": [
      "CPU times: user 15.5 s, sys: 19 s, total: 34.5 s\n",
      "Wall time: 34.7 s\n"
     ]
    }
   ],
   "source": [
    "%%time\n",
    "summary = reader.read_summary_catalog()"
   ]
  },
  {
   "cell_type": "code",
   "execution_count": 79,
   "id": "aa826243-bfb1-4480-9d3b-d2811bca5c4d",
   "metadata": {},
   "outputs": [
    {
     "name": "stdout",
     "output_type": "stream",
     "text": [
      "CPU times: user 5.01 s, sys: 2.71 s, total: 7.72 s\n",
      "Wall time: 7.82 s\n"
     ]
    }
   ],
   "source": [
    "%%time\n",
    "_ = reader.read_summary_catalog (return_dataframe=False)"
   ]
  },
  {
   "cell_type": "code",
   "execution_count": 97,
   "id": "fc6a4a17-e365-46f6-a34d-e7fa135cd693",
   "metadata": {},
   "outputs": [],
   "source": [
    "cat = reader.read_tract_catalog(9333, usecode='rmagcut')"
   ]
  },
  {
   "cell_type": "code",
   "execution_count": 48,
   "id": "83e9ad9b-0caf-45ab-99a7-282f741540b0",
   "metadata": {
    "tags": []
   },
   "outputs": [],
   "source": [
    "columns = [\n",
    "    #'coord_ra_Merian', \n",
    "    #'coord_dec_Merian',\n",
    "    #'N708_cModelFlux_Merian',\n",
    "    #'N708_cModelFluxErr_Merian',\n",
    "    'r_cModelFlux_Merian',\n",
    "    'r_cModelFluxErr_Merian',\n",
    "    'r_gaap1p0Flux_Merian', \n",
    "    'r_gaap1p0FluxErr_Merian', \n",
    "    'N708_gaap1p0Flux_Merian', \n",
    "    'N708_gaap1p0FluxErr_Merian',\n",
    "    'i_gaap1p0Flux_Merian', \n",
    "    'i_gaap1p0FluxErr_Merian'    \n",
    "]"
   ]
  },
  {
   "cell_type": "code",
   "execution_count": 56,
   "id": "e15e287f-f160-4546-ad8e-54ec9b47b659",
   "metadata": {
    "tags": []
   },
   "outputs": [
    {
     "name": "stdout",
     "output_type": "stream",
     "text": [
      "Concatenating 355 tracts\n",
      "Processed 50/355 tracts after 24.10 sec\n",
      "Processed 100/355 tracts after 46.91 sec\n",
      "Processed 150/355 tracts after 82.77 sec\n",
      "Processed 200/355 tracts after 122.93 sec\n",
      "Processed 250/355 tracts after 156.39 sec\n",
      "Processed 300/355 tracts after 195.85 sec\n",
      "Processed 350/355 tracts after 231.71 sec\n"
     ]
    }
   ],
   "source": [
    "catalog = reader.assemble_catalog ( columns, usecode='rmagcut', verbose=True, usescratch=False )"
   ]
  },
  {
   "cell_type": "code",
   "execution_count": 134,
   "id": "10b31dcd-df81-4a44-976e-83d958fe4dc7",
   "metadata": {},
   "outputs": [],
   "source": [
    "# catalog = reader.read_tract_catalog(9333, usecode='rmagcut')\n",
    "medcontinuum = 0.5*(catalog['r_gaap1p0Flux_Merian'] + catalog['i_gaap1p0Flux_Merian'])\n",
    "\n",
    "n708_continuum =  0.5*(catalog['r_gaap1p0Flux_Merian'] + catalog['i_gaap1p0Flux_Merian'])\n",
    "n540_continuum =  0.5*(catalog['g_gaap1p0Flux_Merian'] + catalog['r_gaap1p0Flux_Merian'])\n",
    "\n",
    "n708_color = -2.5*np.log10(catalog['N708_gaap1p0Flux_Merian']/n708_continuum)\n",
    "n540_color = -2.5*np.log10(catalog['N540_gaap1p0Flux_Merian']/n540_continuum)\n",
    "\n",
    "rmag = -2.5*np.log10(catalog['r_cModelFlux_Merian'].astype(float)) + 31.\n",
    "selection = (n708_color<-0.2)&(n540_color<-0.1)&(rmag<20)"
   ]
  },
  {
   "cell_type": "code",
   "execution_count": 158,
   "id": "c47df8cd-1f5e-4d2b-bb36-235b1865e2f2",
   "metadata": {},
   "outputs": [
    {
     "data": {
      "text/plain": [
       "Text(0.95, 0.95, 'selected')"
      ]
     },
     "execution_count": 158,
     "metadata": {},
     "output_type": "execute_result"
    },
    {
     "data": {
      "image/png": "[encoded data removed]",
      "text/plain": [
       "<Figure size 576x360 with 1 Axes>"
      ]
     },
     "metadata": {
      "needs_background": "light"
     },
     "output_type": "display_data"
    }
   ],
   "source": [
    "\n",
    "with plt.rc_context({'font.size':18}):\n",
    "    plt.figure(figsize=(8,5))\n",
    "    ax = plt.subplot(111)\n",
    "_=plt.hist2d (\n",
    "    n708_color,\n",
    "    n540_color,\n",
    "    bins=[np.linspace(-1,1.,100),np.linspace(-1,1,100)],\n",
    "    cmap='Greys'\n",
    ")\n",
    "plt.scatter (\n",
    "    n708_color[selection],\n",
    "    n540_color[selection],    \n",
    "    s=10,\n",
    "    color='r'\n",
    ")\n",
    "plt.xlabel('N708 color')\n",
    "plt.ylabel('N540 color')\n",
    "plt.text ( 0.95, 0.95, 'selected', color='r', transform=ax.transAxes, ha='right', va='top' )\n",
    "#plt.axhline(0.)\n",
    "#plt.yscale('log')"
   ]
  },
  {
   "cell_type": "code",
   "execution_count": 144,
   "id": "612c682a-64de-49a5-955e-9cc93f9e7def",
   "metadata": {},
   "outputs": [
    {
     "data": {
      "text/plain": [
       "array([-0.21047855, -0.09174084])"
      ]
     },
     "execution_count": 144,
     "metadata": {},
     "output_type": "execute_result"
    }
   ],
   "source": [
    "np.nanquantile(n708_color,[0.1,.5])"
   ]
  },
  {
   "cell_type": "code",
   "execution_count": 145,
   "id": "efeaa428-d50d-4457-a8f4-36eeb7f77dfa",
   "metadata": {},
   "outputs": [
    {
     "data": {
      "text/plain": [
       "array([-0.11387239,  0.05010995])"
      ]
     },
     "execution_count": 145,
     "metadata": {},
     "output_type": "execute_result"
    }
   ],
   "source": [
    "np.nanquantile(n540_color,[0.1,.5])"
   ]
  },
  {
   "cell_type": "code",
   "execution_count": 152,
   "id": "5304ede1-5525-402f-a157-10c2266a3def",
   "metadata": {},
   "outputs": [],
   "source": [
    "summary.reindex(catalog[(n708_color<-0.2)&(n540_color<-0.1)&(rmag<20)]['objectId_Merian'])[['coord_ra_Merian','coord_dec_Merian']].to_csv('/tiger/scratch/gpfs/kadofong/merian_scratch/viewer.csv', index=True, index_label='Name', header=['RA','Dec'])"
   ]
  },
  {
   "cell_type": "code",
   "execution_count": 147,
   "id": "4540b71d-7d86-4238-841f-51ead2ccff04",
   "metadata": {},
   "outputs": [],
   "source": [
    "alfalfa = ascii.read( '/scratch/gpfs/kadofong/merian_scratch/external_catalogs/alfalfa/table2.dat',\n",
    "                      readme='/scratch/gpfs/kadofong/merian_scratch/external_catalogs/alfalfa/ReadMe')\n",
    "alfalfa.add_index('AGC')              "
   ]
  },
  {
   "cell_type": "code",
   "execution_count": 150,
   "id": "fc92c10c-37d8-4e93-99cb-3d1dd111bc6f",
   "metadata": {},
   "outputs": [],
   "source": [
    "alfalfa['z'] = alfalfa['Vhel'] / co.c.to(u.km/u.s).value"
   ]
  },
  {
   "cell_type": "code",
   "execution_count": 211,
   "id": "708c52cb-cf40-471f-a208-4ba9e86f60c6",
   "metadata": {},
   "outputs": [
    {
     "data": {
      "text/plain": [
       "31502"
      ]
     },
     "execution_count": 211,
     "metadata": {},
     "output_type": "execute_result"
    }
   ],
   "source": [
    "len(optical_strings)"
   ]
  },
  {
   "cell_type": "code",
   "execution_count": 230,
   "id": "c5d8299a-2de1-41f5-89ea-8d0d6da67dcb",
   "metadata": {},
   "outputs": [
    {
     "data": {
      "text/plain": [
       "31158"
      ]
     },
     "execution_count": 230,
     "metadata": {},
     "output_type": "execute_result"
    }
   ],
   "source": [
    "len(alfalfa[~alfalfa['RAOh'].mask])"
   ]
  },
  {
   "cell_type": "code",
   "execution_count": 272,
   "id": "7ff0620a-3b2d-4c9a-ad6f-0cca1cf049cf",
   "metadata": {
    "tags": []
   },
   "outputs": [],
   "source": [
    "\n",
    "hi_strings = [ f\"{x['RAh']}:{x['RAm']}:{x['RAs']} {x['DE-']}{x['DEd']}:{x['DEm']}:{x['DEs']}\" for x in alfalfa ]\n",
    "optical_strings = [ f\"{x['RAOh']}:{x['RAOm']}:{x['RAOs']} {x['DEO-']}{x['DEOd']}:{x['DEOm']}:{min(59.9,x['DEOs'])}\" for x in alfalfa[~alfalfa['RAOh'].mask] ]\n",
    "#coord_strings = []\n"
   ]
  },
  {
   "cell_type": "code",
   "execution_count": 346,
   "id": "d42f9344-8035-45a7-88cc-c6340d8e287a",
   "metadata": {},
   "outputs": [],
   "source": [
    "acoords = coordinates.SkyCoord ( hi_strings, unit=(u.hourangle, u.deg))"
   ]
  },
  {
   "cell_type": "code",
   "execution_count": 319,
   "id": "2c3a0ee4-3165-4210-aa56-036b7ec9760b",
   "metadata": {},
   "outputs": [],
   "source": [
    "snr = catalog['N708_gaap1p0Flux_Merian']/catalog['N708_gaap1p0FluxErr_Merian']"
   ]
  },
  {
   "cell_type": "code",
   "execution_count": 332,
   "id": "176eefd9-514a-47a8-a442-72f5fe0263b4",
   "metadata": {},
   "outputs": [],
   "source": [
    "stripped = catalog.loc[(fluxexcess > np.nanquantile(fluxexcess, 0.95))&(snr>10.)&(catalog['coord_dec_Merian']>-1.)&(catalog['N708_gaap1p0Flux_Merian']>np.nanquantile(catalog['N708_gaap1p0Flux_Merian'].astype(float), .95))]"
   ]
  },
  {
   "cell_type": "code",
   "execution_count": 333,
   "id": "b62f0a93-409f-41d6-80c2-96cd4e924201",
   "metadata": {},
   "outputs": [
    {
     "data": {
      "text/plain": [
       "(1443482, 8)"
      ]
     },
     "execution_count": 333,
     "metadata": {},
     "output_type": "execute_result"
    }
   ],
   "source": [
    "stripped.shape"
   ]
  },
  {
   "cell_type": "code",
   "execution_count": 334,
   "id": "f55b1e28-bd6f-44dd-8beb-65541a96ac03",
   "metadata": {},
   "outputs": [
    {
     "data": {
      "text/html": [
       "<div>\n",
       "<style scoped>\n",
       "    .dataframe tbody tr th:only-of-type {\n",
       "        vertical-align: middle;\n",
       "    }\n",
       "\n",
       "    .dataframe tbody tr th {\n",
       "        vertical-align: top;\n",
       "    }\n",
       "\n",
       "    .dataframe thead th {\n",
       "        text-align: right;\n",
       "    }\n",
       "</style>\n",
       "<table border=\"1\" class=\"dataframe\">\n",
       "  <thead>\n",
       "    <tr style=\"text-align: right;\">\n",
       "      <th></th>\n",
       "      <th>coord_ra_Merian</th>\n",
       "      <th>coord_dec_Merian</th>\n",
       "      <th>r_gaap1p0Flux_Merian</th>\n",
       "      <th>r_gaap1p0FluxErr_Merian</th>\n",
       "      <th>N708_gaap1p0Flux_Merian</th>\n",
       "      <th>N708_gaap1p0FluxErr_Merian</th>\n",
       "      <th>i_gaap1p0Flux_Merian</th>\n",
       "      <th>i_gaap1p0FluxErr_Merian</th>\n",
       "    </tr>\n",
       "  </thead>\n",
       "  <tbody>\n",
       "    <tr>\n",
       "      <th>3324923162394642683</th>\n",
       "      <td>159.232782</td>\n",
       "      <td>-0.982432</td>\n",
       "      <td>8236.455066</td>\n",
       "      <td>53.619175</td>\n",
       "      <td>13630.538418</td>\n",
       "      <td>74.791325</td>\n",
       "      <td>16614.426481</td>\n",
       "      <td>40.797757</td>\n",
       "    </tr>\n",
       "    <tr>\n",
       "      <th>3324923162394643600</th>\n",
       "      <td>159.172133</td>\n",
       "      <td>-0.984207</td>\n",
       "      <td>34453.933006</td>\n",
       "      <td>81.315302</td>\n",
       "      <td>41636.545205</td>\n",
       "      <td>105.533925</td>\n",
       "      <td>42330.903574</td>\n",
       "      <td>71.079635</td>\n",
       "    </tr>\n",
       "    <tr>\n",
       "      <th>3324923162394643939</th>\n",
       "      <td>159.256692</td>\n",
       "      <td>-0.978171</td>\n",
       "      <td>7728.183263</td>\n",
       "      <td>55.801394</td>\n",
       "      <td>12451.751432</td>\n",
       "      <td>75.650592</td>\n",
       "      <td>13078.214477</td>\n",
       "      <td>65.4275</td>\n",
       "    </tr>\n",
       "    <tr>\n",
       "      <th>3324923162394644031</th>\n",
       "      <td>159.187711</td>\n",
       "      <td>-0.978656</td>\n",
       "      <td>9271.387087</td>\n",
       "      <td>44.012499</td>\n",
       "      <td>13559.159918</td>\n",
       "      <td>73.848369</td>\n",
       "      <td>14897.481226</td>\n",
       "      <td>46.995117</td>\n",
       "    </tr>\n",
       "    <tr>\n",
       "      <th>3324923162394644404</th>\n",
       "      <td>159.172848</td>\n",
       "      <td>-0.974977</td>\n",
       "      <td>81365.731894</td>\n",
       "      <td>93.294553</td>\n",
       "      <td>105489.882039</td>\n",
       "      <td>144.488651</td>\n",
       "      <td>111957.75373</td>\n",
       "      <td>95.592872</td>\n",
       "    </tr>\n",
       "    <tr>\n",
       "      <th>...</th>\n",
       "      <td>...</td>\n",
       "      <td>...</td>\n",
       "      <td>...</td>\n",
       "      <td>...</td>\n",
       "      <td>...</td>\n",
       "      <td>...</td>\n",
       "      <td>...</td>\n",
       "      <td>...</td>\n",
       "    </tr>\n",
       "    <tr>\n",
       "      <th>3339295978392931189</th>\n",
       "      <td>218.429786</td>\n",
       "      <td>-0.375654</td>\n",
       "      <td>11602.970762</td>\n",
       "      <td>41.188794</td>\n",
       "      <td>17035.997831</td>\n",
       "      <td>130.165338</td>\n",
       "      <td>20721.146154</td>\n",
       "      <td>40.100388</td>\n",
       "    </tr>\n",
       "    <tr>\n",
       "      <th>3339295978392931228</th>\n",
       "      <td>218.429241</td>\n",
       "      <td>-0.364826</td>\n",
       "      <td>33614.34863</td>\n",
       "      <td>64.792041</td>\n",
       "      <td>39860.012979</td>\n",
       "      <td>205.893475</td>\n",
       "      <td>39750.76624</td>\n",
       "      <td>74.059725</td>\n",
       "    </tr>\n",
       "    <tr>\n",
       "      <th>3339295978392931463</th>\n",
       "      <td>218.429393</td>\n",
       "      <td>-0.318645</td>\n",
       "      <td>7285.225666</td>\n",
       "      <td>40.454298</td>\n",
       "      <td>9725.042548</td>\n",
       "      <td>125.309592</td>\n",
       "      <td>10091.369271</td>\n",
       "      <td>35.992468</td>\n",
       "    </tr>\n",
       "    <tr>\n",
       "      <th>3339295978392931469</th>\n",
       "      <td>218.430309</td>\n",
       "      <td>-0.314908</td>\n",
       "      <td>18247.568189</td>\n",
       "      <td>44.061312</td>\n",
       "      <td>27333.77524</td>\n",
       "      <td>134.251315</td>\n",
       "      <td>30206.886088</td>\n",
       "      <td>45.040292</td>\n",
       "    </tr>\n",
       "    <tr>\n",
       "      <th>3339295978392931536</th>\n",
       "      <td>218.429371</td>\n",
       "      <td>-0.300802</td>\n",
       "      <td>30168.813211</td>\n",
       "      <td>63.55465</td>\n",
       "      <td>38298.504495</td>\n",
       "      <td>200.739997</td>\n",
       "      <td>40077.963421</td>\n",
       "      <td>62.687841</td>\n",
       "    </tr>\n",
       "  </tbody>\n",
       "</table>\n",
       "<p>1443482 rows × 8 columns</p>\n",
       "</div>"
      ],
      "text/plain": [
       "                    coord_ra_Merian  ... i_gaap1p0FluxErr_Merian\n",
       "3324923162394642683      159.232782  ...               40.797757\n",
       "3324923162394643600      159.172133  ...               71.079635\n",
       "3324923162394643939      159.256692  ...                 65.4275\n",
       "3324923162394644031      159.187711  ...               46.995117\n",
       "3324923162394644404      159.172848  ...               95.592872\n",
       "...                             ...  ...                     ...\n",
       "3339295978392931189      218.429786  ...               40.100388\n",
       "3339295978392931228      218.429241  ...               74.059725\n",
       "3339295978392931463      218.429393  ...               35.992468\n",
       "3339295978392931469      218.430309  ...               45.040292\n",
       "3339295978392931536      218.429371  ...               62.687841\n",
       "\n",
       "[1443482 rows x 8 columns]"
      ]
     },
     "execution_count": 334,
     "metadata": {},
     "output_type": "execute_result"
    }
   ],
   "source": [
    "stripped"
   ]
  },
  {
   "cell_type": "code",
   "execution_count": 347,
   "id": "730f8b0a-f541-478d-a99b-3fb4b7cd9835",
   "metadata": {
    "collapsed": true,
    "jupyter": {
     "outputs_hidden": true
    },
    "tags": []
   },
   "outputs": [
    {
     "ename": "KeyboardInterrupt",
     "evalue": "",
     "output_type": "error",
     "traceback": [
      "\u001b[0;31m---------------------------------------------------------------------------\u001b[0m",
      "\u001b[0;31mKeyboardInterrupt\u001b[0m                         Traceback (most recent call last)",
      "Input \u001b[0;32mIn [347]\u001b[0m, in \u001b[0;36m<cell line: 1>\u001b[0;34m()\u001b[0m\n\u001b[0;32m----> 1\u001b[0m mcoords \u001b[38;5;241m=\u001b[39m \u001b[43mcoordinates\u001b[49m\u001b[38;5;241;43m.\u001b[39;49m\u001b[43mSkyCoord\u001b[49m\u001b[43m \u001b[49m\u001b[43m(\u001b[49m\u001b[43m \u001b[49m\u001b[43mstripped\u001b[49m\u001b[43m[\u001b[49m\u001b[38;5;124;43m'\u001b[39;49m\u001b[38;5;124;43mcoord_ra_Merian\u001b[39;49m\u001b[38;5;124;43m'\u001b[39;49m\u001b[43m]\u001b[49m\u001b[43m,\u001b[49m\u001b[43m \u001b[49m\u001b[43mstripped\u001b[49m\u001b[43m[\u001b[49m\u001b[38;5;124;43m'\u001b[39;49m\u001b[38;5;124;43mcoord_dec_Merian\u001b[39;49m\u001b[38;5;124;43m'\u001b[39;49m\u001b[43m]\u001b[49m\u001b[43m,\u001b[49m\u001b[43m \u001b[49m\u001b[43munit\u001b[49m\u001b[38;5;241;43m=\u001b[39;49m\u001b[43mu\u001b[49m\u001b[38;5;241;43m.\u001b[39;49m\u001b[43mdeg\u001b[49m\u001b[43m \u001b[49m\u001b[43m)\u001b[49m\n",
      "File \u001b[0;32m/projects/HSC/LSST/stack_20220527/conda/envs/lsst-scipipe-4.1.0/lib/python3.10/site-packages/astropy/coordinates/sky_coordinate.py:331\u001b[0m, in \u001b[0;36mSkyCoord.__init__\u001b[0;34m(self, copy, *args, **kwargs)\u001b[0m\n\u001b[1;32m    327\u001b[0m \u001b[38;5;66;03m# Parse the args and kwargs to assemble a sanitized and validated\u001b[39;00m\n\u001b[1;32m    328\u001b[0m \u001b[38;5;66;03m# kwargs dict for initializing attributes for this object and for\u001b[39;00m\n\u001b[1;32m    329\u001b[0m \u001b[38;5;66;03m# creating the internal self._sky_coord_frame object\u001b[39;00m\n\u001b[1;32m    330\u001b[0m args \u001b[38;5;241m=\u001b[39m \u001b[38;5;28mlist\u001b[39m(args)  \u001b[38;5;66;03m# Make it mutable\u001b[39;00m\n\u001b[0;32m--> 331\u001b[0m skycoord_kwargs, components, info \u001b[38;5;241m=\u001b[39m \u001b[43m_parse_coordinate_data\u001b[49m\u001b[43m(\u001b[49m\n\u001b[1;32m    332\u001b[0m \u001b[43m    \u001b[49m\u001b[43mframe_cls\u001b[49m\u001b[43m(\u001b[49m\u001b[38;5;241;43m*\u001b[39;49m\u001b[38;5;241;43m*\u001b[39;49m\u001b[43mframe_kwargs\u001b[49m\u001b[43m)\u001b[49m\u001b[43m,\u001b[49m\u001b[43m \u001b[49m\u001b[43margs\u001b[49m\u001b[43m,\u001b[49m\u001b[43m \u001b[49m\u001b[43mkwargs\u001b[49m\u001b[43m)\u001b[49m\n\u001b[1;32m    334\u001b[0m \u001b[38;5;66;03m# In the above two parsing functions, these kwargs were identified\u001b[39;00m\n\u001b[1;32m    335\u001b[0m \u001b[38;5;66;03m# as valid frame attributes for *some* frame, but not the frame that\u001b[39;00m\n\u001b[1;32m    336\u001b[0m \u001b[38;5;66;03m# this SkyCoord will have. We keep these attributes as special\u001b[39;00m\n\u001b[1;32m    337\u001b[0m \u001b[38;5;66;03m# skycoord frame attributes:\u001b[39;00m\n\u001b[1;32m    338\u001b[0m \u001b[38;5;28;01mfor\u001b[39;00m attr \u001b[38;5;129;01min\u001b[39;00m skycoord_kwargs:\n\u001b[1;32m    339\u001b[0m     \u001b[38;5;66;03m# Setting it will also validate it.\u001b[39;00m\n",
      "File \u001b[0;32m/projects/HSC/LSST/stack_20220527/conda/envs/lsst-scipipe-4.1.0/lib/python3.10/site-packages/astropy/coordinates/sky_coordinate_parsers.py:296\u001b[0m, in \u001b[0;36m_parse_coordinate_data\u001b[0;34m(frame, args, kwargs)\u001b[0m\n\u001b[1;32m    293\u001b[0m     \u001b[38;5;28;01mfor\u001b[39;00m arg, frame_attr_name, repr_attr_name, unit \u001b[38;5;129;01min\u001b[39;00m \u001b[38;5;28mzip\u001b[39m(args, frame_attr_names,\n\u001b[1;32m    294\u001b[0m                                                           repr_attr_names, units):\n\u001b[1;32m    295\u001b[0m         attr_class \u001b[38;5;241m=\u001b[39m frame\u001b[38;5;241m.\u001b[39mrepresentation_type\u001b[38;5;241m.\u001b[39mattr_classes[repr_attr_name]\n\u001b[0;32m--> 296\u001b[0m         _components[frame_attr_name] \u001b[38;5;241m=\u001b[39m \u001b[43mattr_class\u001b[49m\u001b[43m(\u001b[49m\u001b[43marg\u001b[49m\u001b[43m,\u001b[49m\u001b[43m \u001b[49m\u001b[43munit\u001b[49m\u001b[38;5;241;43m=\u001b[39;49m\u001b[43munit\u001b[49m\u001b[43m)\u001b[49m\n\u001b[1;32m    298\u001b[0m \u001b[38;5;28;01melse\u001b[39;00m:\n\u001b[1;32m    299\u001b[0m     \u001b[38;5;28;01mraise\u001b[39;00m \u001b[38;5;167;01mValueError\u001b[39;00m(\u001b[38;5;124m'\u001b[39m\u001b[38;5;124mMust supply no more than three positional arguments, got \u001b[39m\u001b[38;5;132;01m{}\u001b[39;00m\u001b[38;5;124m'\u001b[39m\n\u001b[1;32m    300\u001b[0m                      \u001b[38;5;241m.\u001b[39mformat(\u001b[38;5;28mlen\u001b[39m(args)))\n",
      "File \u001b[0;32m/projects/HSC/LSST/stack_20220527/conda/envs/lsst-scipipe-4.1.0/lib/python3.10/site-packages/astropy/coordinates/angles.py:679\u001b[0m, in \u001b[0;36mLongitude.__new__\u001b[0;34m(cls, angle, unit, wrap_angle, **kwargs)\u001b[0m\n\u001b[1;32m    676\u001b[0m \u001b[38;5;28;01mif\u001b[39;00m \u001b[38;5;28misinstance\u001b[39m(angle, Latitude):\n\u001b[1;32m    677\u001b[0m     \u001b[38;5;28;01mraise\u001b[39;00m \u001b[38;5;167;01mTypeError\u001b[39;00m(\u001b[38;5;124m\"\u001b[39m\u001b[38;5;124mA Longitude angle cannot be created from \u001b[39m\u001b[38;5;124m\"\u001b[39m\n\u001b[1;32m    678\u001b[0m                     \u001b[38;5;124m\"\u001b[39m\u001b[38;5;124ma Latitude angle.\u001b[39m\u001b[38;5;124m\"\u001b[39m)\n\u001b[0;32m--> 679\u001b[0m \u001b[38;5;28mself\u001b[39m \u001b[38;5;241m=\u001b[39m \u001b[38;5;28;43msuper\u001b[39;49m\u001b[43m(\u001b[49m\u001b[43m)\u001b[49m\u001b[38;5;241;43m.\u001b[39;49m\u001b[38;5;21;43m__new__\u001b[39;49m\u001b[43m(\u001b[49m\u001b[38;5;28;43mcls\u001b[39;49m\u001b[43m,\u001b[49m\u001b[43m \u001b[49m\u001b[43mangle\u001b[49m\u001b[43m,\u001b[49m\u001b[43m \u001b[49m\u001b[43munit\u001b[49m\u001b[38;5;241;43m=\u001b[39;49m\u001b[43munit\u001b[49m\u001b[43m,\u001b[49m\u001b[43m \u001b[49m\u001b[38;5;241;43m*\u001b[39;49m\u001b[38;5;241;43m*\u001b[39;49m\u001b[43mkwargs\u001b[49m\u001b[43m)\u001b[49m\n\u001b[1;32m    680\u001b[0m \u001b[38;5;28;01mif\u001b[39;00m wrap_angle \u001b[38;5;129;01mis\u001b[39;00m \u001b[38;5;28;01mNone\u001b[39;00m:\n\u001b[1;32m    681\u001b[0m     wrap_angle \u001b[38;5;241m=\u001b[39m \u001b[38;5;28mgetattr\u001b[39m(angle, \u001b[38;5;124m'\u001b[39m\u001b[38;5;124mwrap_angle\u001b[39m\u001b[38;5;124m'\u001b[39m, \u001b[38;5;28mself\u001b[39m\u001b[38;5;241m.\u001b[39m_default_wrap_angle)\n",
      "File \u001b[0;32m/projects/HSC/LSST/stack_20220527/conda/envs/lsst-scipipe-4.1.0/lib/python3.10/site-packages/astropy/coordinates/angles.py:140\u001b[0m, in \u001b[0;36mAngle.__new__\u001b[0;34m(cls, angle, unit, dtype, copy, **kwargs)\u001b[0m\n\u001b[1;32m    135\u001b[0m             angle \u001b[38;5;241m=\u001b[39m u\u001b[38;5;241m.\u001b[39mQuantity(angle, angle_unit, copy\u001b[38;5;241m=\u001b[39m\u001b[38;5;28;01mFalse\u001b[39;00m)\n\u001b[1;32m    137\u001b[0m     \u001b[38;5;28;01melif\u001b[39;00m (isiterable(angle) \u001b[38;5;129;01mand\u001b[39;00m\n\u001b[1;32m    138\u001b[0m           \u001b[38;5;129;01mnot\u001b[39;00m (\u001b[38;5;28misinstance\u001b[39m(angle, np\u001b[38;5;241m.\u001b[39mndarray) \u001b[38;5;129;01mand\u001b[39;00m\n\u001b[1;32m    139\u001b[0m                angle\u001b[38;5;241m.\u001b[39mdtype\u001b[38;5;241m.\u001b[39mkind \u001b[38;5;129;01mnot\u001b[39;00m \u001b[38;5;129;01min\u001b[39;00m \u001b[38;5;124m'\u001b[39m\u001b[38;5;124mSUVO\u001b[39m\u001b[38;5;124m'\u001b[39m)):\n\u001b[0;32m--> 140\u001b[0m         angle \u001b[38;5;241m=\u001b[39m [Angle(x, unit, copy\u001b[38;5;241m=\u001b[39m\u001b[38;5;28;01mFalse\u001b[39;00m) \u001b[38;5;28;01mfor\u001b[39;00m x \u001b[38;5;129;01min\u001b[39;00m angle]\n\u001b[1;32m    142\u001b[0m \u001b[38;5;28;01mreturn\u001b[39;00m \u001b[38;5;28msuper\u001b[39m()\u001b[38;5;241m.\u001b[39m\u001b[38;5;21m__new__\u001b[39m(\u001b[38;5;28mcls\u001b[39m, angle, unit, dtype\u001b[38;5;241m=\u001b[39mdtype, copy\u001b[38;5;241m=\u001b[39mcopy,\n\u001b[1;32m    143\u001b[0m                        \u001b[38;5;241m*\u001b[39m\u001b[38;5;241m*\u001b[39mkwargs)\n",
      "File \u001b[0;32m/projects/HSC/LSST/stack_20220527/conda/envs/lsst-scipipe-4.1.0/lib/python3.10/site-packages/astropy/coordinates/angles.py:140\u001b[0m, in \u001b[0;36m<listcomp>\u001b[0;34m(.0)\u001b[0m\n\u001b[1;32m    135\u001b[0m             angle \u001b[38;5;241m=\u001b[39m u\u001b[38;5;241m.\u001b[39mQuantity(angle, angle_unit, copy\u001b[38;5;241m=\u001b[39m\u001b[38;5;28;01mFalse\u001b[39;00m)\n\u001b[1;32m    137\u001b[0m     \u001b[38;5;28;01melif\u001b[39;00m (isiterable(angle) \u001b[38;5;129;01mand\u001b[39;00m\n\u001b[1;32m    138\u001b[0m           \u001b[38;5;129;01mnot\u001b[39;00m (\u001b[38;5;28misinstance\u001b[39m(angle, np\u001b[38;5;241m.\u001b[39mndarray) \u001b[38;5;129;01mand\u001b[39;00m\n\u001b[1;32m    139\u001b[0m                angle\u001b[38;5;241m.\u001b[39mdtype\u001b[38;5;241m.\u001b[39mkind \u001b[38;5;129;01mnot\u001b[39;00m \u001b[38;5;129;01min\u001b[39;00m \u001b[38;5;124m'\u001b[39m\u001b[38;5;124mSUVO\u001b[39m\u001b[38;5;124m'\u001b[39m)):\n\u001b[0;32m--> 140\u001b[0m         angle \u001b[38;5;241m=\u001b[39m [\u001b[43mAngle\u001b[49m\u001b[43m(\u001b[49m\u001b[43mx\u001b[49m\u001b[43m,\u001b[49m\u001b[43m \u001b[49m\u001b[43munit\u001b[49m\u001b[43m,\u001b[49m\u001b[43m \u001b[49m\u001b[43mcopy\u001b[49m\u001b[38;5;241;43m=\u001b[39;49m\u001b[38;5;28;43;01mFalse\u001b[39;49;00m\u001b[43m)\u001b[49m \u001b[38;5;28;01mfor\u001b[39;00m x \u001b[38;5;129;01min\u001b[39;00m angle]\n\u001b[1;32m    142\u001b[0m \u001b[38;5;28;01mreturn\u001b[39;00m \u001b[38;5;28msuper\u001b[39m()\u001b[38;5;241m.\u001b[39m\u001b[38;5;21m__new__\u001b[39m(\u001b[38;5;28mcls\u001b[39m, angle, unit, dtype\u001b[38;5;241m=\u001b[39mdtype, copy\u001b[38;5;241m=\u001b[39mcopy,\n\u001b[1;32m    143\u001b[0m                        \u001b[38;5;241m*\u001b[39m\u001b[38;5;241m*\u001b[39mkwargs)\n",
      "File \u001b[0;32m/projects/HSC/LSST/stack_20220527/conda/envs/lsst-scipipe-4.1.0/lib/python3.10/site-packages/astropy/coordinates/angles.py:142\u001b[0m, in \u001b[0;36mAngle.__new__\u001b[0;34m(cls, angle, unit, dtype, copy, **kwargs)\u001b[0m\n\u001b[1;32m    137\u001b[0m     \u001b[38;5;28;01melif\u001b[39;00m (isiterable(angle) \u001b[38;5;129;01mand\u001b[39;00m\n\u001b[1;32m    138\u001b[0m           \u001b[38;5;129;01mnot\u001b[39;00m (\u001b[38;5;28misinstance\u001b[39m(angle, np\u001b[38;5;241m.\u001b[39mndarray) \u001b[38;5;129;01mand\u001b[39;00m\n\u001b[1;32m    139\u001b[0m                angle\u001b[38;5;241m.\u001b[39mdtype\u001b[38;5;241m.\u001b[39mkind \u001b[38;5;129;01mnot\u001b[39;00m \u001b[38;5;129;01min\u001b[39;00m \u001b[38;5;124m'\u001b[39m\u001b[38;5;124mSUVO\u001b[39m\u001b[38;5;124m'\u001b[39m)):\n\u001b[1;32m    140\u001b[0m         angle \u001b[38;5;241m=\u001b[39m [Angle(x, unit, copy\u001b[38;5;241m=\u001b[39m\u001b[38;5;28;01mFalse\u001b[39;00m) \u001b[38;5;28;01mfor\u001b[39;00m x \u001b[38;5;129;01min\u001b[39;00m angle]\n\u001b[0;32m--> 142\u001b[0m \u001b[38;5;28;01mreturn\u001b[39;00m \u001b[38;5;28;43msuper\u001b[39;49m\u001b[43m(\u001b[49m\u001b[43m)\u001b[49m\u001b[38;5;241;43m.\u001b[39;49m\u001b[38;5;21;43m__new__\u001b[39;49m\u001b[43m(\u001b[49m\u001b[38;5;28;43mcls\u001b[39;49m\u001b[43m,\u001b[49m\u001b[43m \u001b[49m\u001b[43mangle\u001b[49m\u001b[43m,\u001b[49m\u001b[43m \u001b[49m\u001b[43munit\u001b[49m\u001b[43m,\u001b[49m\u001b[43m \u001b[49m\u001b[43mdtype\u001b[49m\u001b[38;5;241;43m=\u001b[39;49m\u001b[43mdtype\u001b[49m\u001b[43m,\u001b[49m\u001b[43m \u001b[49m\u001b[43mcopy\u001b[49m\u001b[38;5;241;43m=\u001b[39;49m\u001b[43mcopy\u001b[49m\u001b[43m,\u001b[49m\n\u001b[1;32m    143\u001b[0m \u001b[43m                       \u001b[49m\u001b[38;5;241;43m*\u001b[39;49m\u001b[38;5;241;43m*\u001b[39;49m\u001b[43mkwargs\u001b[49m\u001b[43m)\u001b[49m\n",
      "File \u001b[0;32m/projects/HSC/LSST/stack_20220527/conda/envs/lsst-scipipe-4.1.0/lib/python3.10/site-packages/astropy/units/quantity.py:523\u001b[0m, in \u001b[0;36mQuantity.__new__\u001b[0;34m(cls, value, unit, dtype, copy, order, subok, ndmin)\u001b[0m\n\u001b[1;32m    520\u001b[0m         \u001b[38;5;28mcls\u001b[39m \u001b[38;5;241m=\u001b[39m qcls\n\u001b[1;32m    522\u001b[0m value \u001b[38;5;241m=\u001b[39m value\u001b[38;5;241m.\u001b[39mview(\u001b[38;5;28mcls\u001b[39m)\n\u001b[0;32m--> 523\u001b[0m \u001b[43mvalue\u001b[49m\u001b[38;5;241;43m.\u001b[39;49m\u001b[43m_set_unit\u001b[49m\u001b[43m(\u001b[49m\u001b[43mvalue_unit\u001b[49m\u001b[43m)\u001b[49m\n\u001b[1;32m    524\u001b[0m \u001b[38;5;28;01mif\u001b[39;00m unit \u001b[38;5;129;01mis\u001b[39;00m value_unit:\n\u001b[1;32m    525\u001b[0m     \u001b[38;5;28;01mreturn\u001b[39;00m value\n",
      "File \u001b[0;32m/projects/HSC/LSST/stack_20220527/conda/envs/lsst-scipipe-4.1.0/lib/python3.10/site-packages/astropy/coordinates/angles.py:164\u001b[0m, in \u001b[0;36mAngle._set_unit\u001b[0;34m(self, unit)\u001b[0m\n\u001b[1;32m    163\u001b[0m \u001b[38;5;28;01mdef\u001b[39;00m \u001b[38;5;21m_set_unit\u001b[39m(\u001b[38;5;28mself\u001b[39m, unit):\n\u001b[0;32m--> 164\u001b[0m     \u001b[38;5;28;43msuper\u001b[39;49m\u001b[43m(\u001b[49m\u001b[43m)\u001b[49m\u001b[38;5;241;43m.\u001b[39;49m\u001b[43m_set_unit\u001b[49m\u001b[43m(\u001b[49m\u001b[38;5;28;43mself\u001b[39;49m\u001b[38;5;241;43m.\u001b[39;49m\u001b[43m_convert_unit_to_angle_unit\u001b[49m\u001b[43m(\u001b[49m\u001b[43munit\u001b[49m\u001b[43m)\u001b[49m\u001b[43m)\u001b[49m\n",
      "File \u001b[0;32m/projects/HSC/LSST/stack_20220527/conda/envs/lsst-scipipe-4.1.0/lib/python3.10/site-packages/astropy/units/quantity.py:1937\u001b[0m, in \u001b[0;36mSpecificTypeQuantity._set_unit\u001b[0;34m(self, unit)\u001b[0m\n\u001b[1;32m   1936\u001b[0m \u001b[38;5;28;01mdef\u001b[39;00m \u001b[38;5;21m_set_unit\u001b[39m(\u001b[38;5;28mself\u001b[39m, unit):\n\u001b[0;32m-> 1937\u001b[0m     \u001b[38;5;28;01mif\u001b[39;00m unit \u001b[38;5;129;01mis\u001b[39;00m \u001b[38;5;28;01mNone\u001b[39;00m \u001b[38;5;129;01mor\u001b[39;00m \u001b[38;5;129;01mnot\u001b[39;00m \u001b[43munit\u001b[49m\u001b[38;5;241;43m.\u001b[39;49m\u001b[43mis_equivalent\u001b[49m\u001b[43m(\u001b[49m\u001b[38;5;28;43mself\u001b[39;49m\u001b[38;5;241;43m.\u001b[39;49m\u001b[43m_equivalent_unit\u001b[49m\u001b[43m)\u001b[49m:\n\u001b[1;32m   1938\u001b[0m         \u001b[38;5;28;01mraise\u001b[39;00m UnitTypeError(\n\u001b[1;32m   1939\u001b[0m             \u001b[38;5;124m\"\u001b[39m\u001b[38;5;132;01m{}\u001b[39;00m\u001b[38;5;124m instances require units equivalent to \u001b[39m\u001b[38;5;124m'\u001b[39m\u001b[38;5;132;01m{}\u001b[39;00m\u001b[38;5;124m'\u001b[39m\u001b[38;5;124m\"\u001b[39m\n\u001b[1;32m   1940\u001b[0m             \u001b[38;5;241m.\u001b[39mformat(\u001b[38;5;28mtype\u001b[39m(\u001b[38;5;28mself\u001b[39m)\u001b[38;5;241m.\u001b[39m\u001b[38;5;18m__name__\u001b[39m, \u001b[38;5;28mself\u001b[39m\u001b[38;5;241m.\u001b[39m_equivalent_unit) \u001b[38;5;241m+\u001b[39m\n\u001b[1;32m   1941\u001b[0m             (\u001b[38;5;124m\"\u001b[39m\u001b[38;5;124m, but no unit was given.\u001b[39m\u001b[38;5;124m\"\u001b[39m \u001b[38;5;28;01mif\u001b[39;00m unit \u001b[38;5;129;01mis\u001b[39;00m \u001b[38;5;28;01mNone\u001b[39;00m \u001b[38;5;28;01melse\u001b[39;00m\n\u001b[1;32m   1942\u001b[0m              \u001b[38;5;124mf\u001b[39m\u001b[38;5;124m\"\u001b[39m\u001b[38;5;124m, so cannot set it to \u001b[39m\u001b[38;5;124m'\u001b[39m\u001b[38;5;132;01m{\u001b[39;00munit\u001b[38;5;132;01m}\u001b[39;00m\u001b[38;5;124m'\u001b[39m\u001b[38;5;124m.\u001b[39m\u001b[38;5;124m\"\u001b[39m))\n\u001b[1;32m   1944\u001b[0m     \u001b[38;5;28msuper\u001b[39m()\u001b[38;5;241m.\u001b[39m_set_unit(unit)\n",
      "File \u001b[0;32m/projects/HSC/LSST/stack_20220527/conda/envs/lsst-scipipe-4.1.0/lib/python3.10/site-packages/astropy/units/core.py:943\u001b[0m, in \u001b[0;36mUnitBase.is_equivalent\u001b[0;34m(self, other, equivalencies)\u001b[0m\n\u001b[1;32m    939\u001b[0m \u001b[38;5;28;01mif\u001b[39;00m \u001b[38;5;28misinstance\u001b[39m(other, \u001b[38;5;28mtuple\u001b[39m):\n\u001b[1;32m    940\u001b[0m     \u001b[38;5;28;01mreturn\u001b[39;00m \u001b[38;5;28many\u001b[39m(\u001b[38;5;28mself\u001b[39m\u001b[38;5;241m.\u001b[39mis_equivalent(u, equivalencies\u001b[38;5;241m=\u001b[39mequivalencies)\n\u001b[1;32m    941\u001b[0m                \u001b[38;5;28;01mfor\u001b[39;00m u \u001b[38;5;129;01min\u001b[39;00m other)\n\u001b[0;32m--> 943\u001b[0m other \u001b[38;5;241m=\u001b[39m \u001b[43mUnit\u001b[49m\u001b[43m(\u001b[49m\u001b[43mother\u001b[49m\u001b[43m,\u001b[49m\u001b[43m \u001b[49m\u001b[43mparse_strict\u001b[49m\u001b[38;5;241;43m=\u001b[39;49m\u001b[38;5;124;43m'\u001b[39;49m\u001b[38;5;124;43msilent\u001b[39;49m\u001b[38;5;124;43m'\u001b[39;49m\u001b[43m)\u001b[49m\n\u001b[1;32m    945\u001b[0m \u001b[38;5;28;01mreturn\u001b[39;00m \u001b[38;5;28mself\u001b[39m\u001b[38;5;241m.\u001b[39m_is_equivalent(other, equivalencies)\n",
      "\u001b[0;31mKeyboardInterrupt\u001b[0m: "
     ]
    }
   ],
   "source": [
    "mcoords = coordinates.SkyCoord ( stripped['coord_ra_Merian'], stripped['coord_dec_Merian'], unit=u.deg )"
   ]
  },
  {
   "cell_type": "code",
   "execution_count": 348,
   "id": "0fbae7c7-988e-45d4-97b1-02c934d4b702",
   "metadata": {},
   "outputs": [],
   "source": [
    "idx, d2d, _ = acoords.match_to_catalog_sky ( mcoords )"
   ]
  },
  {
   "cell_type": "code",
   "execution_count": 349,
   "id": "882a87a7-a5a4-47b5-90b9-b99613878145",
   "metadata": {},
   "outputs": [],
   "source": [
    "in_merian_field = d2d < (10.*u.arcmin)"
   ]
  },
  {
   "cell_type": "code",
   "execution_count": 354,
   "id": "dccf4d6f-79c9-450d-aa37-d82ad3755dae",
   "metadata": {},
   "outputs": [],
   "source": [
    "in_merian_range = (alfalfa['z']>0.05)"
   ]
  },
  {
   "cell_type": "code",
   "execution_count": 355,
   "id": "7b1e4a1c-69dc-4bdd-96af-d40ef1425f0d",
   "metadata": {},
   "outputs": [
    {
     "data": {
      "text/plain": [
       "56"
      ]
     },
     "execution_count": 355,
     "metadata": {},
     "output_type": "execute_result"
    }
   ],
   "source": [
    "(in_merian_field&in_merian_range).sum()"
   ]
  },
  {
   "cell_type": "code",
   "execution_count": 356,
   "id": "2f798ff2-1c67-4f75-80e6-50016211033b",
   "metadata": {},
   "outputs": [
    {
     "name": "stdout",
     "output_type": "stream",
     "text": [
      "130.13624999999996 2.176111111111111\n",
      "130.9395833333333 4.583333333333333\n",
      "131.88666666666663 0.5505555555555556\n",
      "132.00541666666666 4.258055555555556\n",
      "132.26916666666665 4.3277777777777775\n",
      "133.45416666666662 0.22722222222222224\n",
      "133.56375 2.2330555555555556\n",
      "133.685 1.107777777777778\n",
      "134.39999999999998 2.25\n",
      "135.23125 2.1941666666666664\n",
      "135.3825 2.163611111111111\n",
      "135.5370833333333 3.8672222222222223\n",
      "135.78541666666666 4.685555555555556\n",
      "135.97916666666666 4.579166666666667\n",
      "136.02499999999998 2.794722222222222\n",
      "136.05499999999998 3.875\n",
      "136.09624999999997 4.019166666666667\n",
      "136.84583333333333 4.0777777777777775\n",
      "137.45874999999998 0.42000000000000004\n",
      "138.54416666666665 0.8325\n",
      "138.72291666666663 4.641111111111111\n",
      "138.74041666666665 4.684722222222223\n",
      "138.80083333333332 1.5005555555555556\n",
      "138.97458333333333 3.37\n",
      "139.33916666666667 0.31916666666666665\n",
      "140.5425 3.9675000000000002\n",
      "140.67291666666665 2.107222222222222\n",
      "140.87041666666664 4.005277777777778\n",
      "140.95041666666665 1.7513888888888889\n",
      "141.4295833333333 2.2405555555555554\n",
      "142.31249999999997 2.2736111111111112\n",
      "142.5233333333333 2.3866666666666667\n",
      "143.90374999999997 2.9394444444444447\n",
      "149.07166666666663 3.7741666666666664\n",
      "150.6733333333333 4.039166666666667\n",
      "150.6820833333333 4.038888888888889\n",
      "150.80083333333332 4.191944444444444\n",
      "154.07333333333332 4.383888888888889\n",
      "154.08666666666667 4.309444444444444\n",
      "154.25791666666666 2.0097222222222224\n",
      "154.6925 1.669722222222222\n",
      "154.87583333333333 1.9088888888888889\n",
      "155.1675 0.004722222222222222\n",
      "155.17666666666668 2.5969444444444445\n",
      "157.1533333333333 3.9733333333333336\n",
      "157.25166666666664 4.6530555555555555\n",
      "157.43124999999998 4.185277777777778\n",
      "157.66958333333332 1.4041666666666666\n",
      "159.12541666666664 2.386111111111111\n",
      "160.17041666666663 2.0991666666666666\n",
      "160.48833333333332 3.8530555555555557\n",
      "172.55541666666664 1.8294444444444444\n",
      "177.19666666666666 4.015\n",
      "184.0258333333333 1.186388888888889\n",
      "338.99125 0.918611111111111\n",
      "359.82374999999996 0.8397222222222223\n"
     ]
    }
   ],
   "source": [
    "#matchids = idx[in_merian_field&in_merian_range]\n",
    "for idx,row in enumerate(acoords[in_merian_field&in_merian_range]):\n",
    "    print ( f\"{row.ra.value} {row.dec.value}\")"
   ]
  },
  {
   "cell_type": "code",
   "execution_count": 360,
   "id": "dac7d929-a6b4-43a1-8610-1e91bc0982bb",
   "metadata": {},
   "outputs": [],
   "source": [
    "from matplotlib import patches"
   ]
  },
  {
   "cell_type": "code",
   "execution_count": 362,
   "id": "97b1e0af-00c2-4e31-adec-b38ea721a3d3",
   "metadata": {},
   "outputs": [
    {
     "data": {
      "text/plain": [
       "<matplotlib.collections.PathCollection at 0x2ac632705270>"
      ]
     },
     "execution_count": 362,
     "metadata": {},
     "output_type": "execute_result"
    },
    {
     "data": {
      "image/png": "[encoded data removed]",
      "text/plain": [
       "<Figure size 1440x360 with 1 Axes>"
      ]
     },
     "metadata": {
      "needs_background": "light"
     },
     "output_type": "display_data"
    }
   ],
   "source": [
    "plt.figure(figsize=(20,5))\n",
    "ax = plt.subplot(111)\n",
    "\n",
    "plt.scatter ( stripped['coord_ra_Merian'], stripped['coord_dec_Merian'], s=1 )\n",
    "plt.scatter ( acoords[in_merian_field].ra, acoords[in_merian_field].dec,s=1 )\n",
    "\n"
   ]
  },
  {
   "cell_type": "code",
   "execution_count": 359,
   "id": "fe2d7425-4ced-45bf-95e8-cb4bf7a53f2b",
   "metadata": {},
   "outputs": [
    {
     "data": {
      "text/latex": [
       "$180.46667 \\; \\mathrm{{}^{\\circ}}$"
      ],
      "text/plain": [
       "<Quantity 180.46666667 deg>"
      ]
     },
     "execution_count": 359,
     "metadata": {},
     "output_type": "execute_result"
    }
   ],
   "source": [
    "(12*u.hourangle + 28. * u.arcmin).to(u.deg)"
   ]
  },
  {
   "cell_type": "code",
   "execution_count": null,
   "id": "dc1cd2ae-b928-41b2-b312-3b3bb73719ab",
   "metadata": {},
   "outputs": [],
   "source": []
  }
 ],
 "metadata": {
  "kernelspec": {
   "display_name": "Python 3 (ipykernel)",
   "language": "python",
   "name": "python3"
  },
  "language_info": {
   "codemirror_mode": {
    "name": "ipython",
    "version": 3
   },
   "file_extension": ".py",
   "mimetype": "text/x-python",
   "name": "python",
   "nbconvert_exporter": "python",
   "pygments_lexer": "ipython3",
   "version": "3.10.5"
  }
 },
 "nbformat": 4,
 "nbformat_minor": 5
}
