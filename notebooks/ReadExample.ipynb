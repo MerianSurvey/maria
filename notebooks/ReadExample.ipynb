{
 "cells": [
  {
   "cell_type": "code",
   "execution_count": 1,
   "id": "e8815d67-fbba-4349-aa51-86f97ed80ee0",
   "metadata": {},
   "outputs": [],
   "source": [
    "%load_ext autoreload\n",
    "%autoreload 2"
   ]
  },
  {
   "cell_type": "code",
   "execution_count": 2,
   "id": "0fb79782-9440-4dd4-bf52-15d1e6073240",
   "metadata": {},
   "outputs": [],
   "source": [
    "from maria import reader"
   ]
  },
  {
   "cell_type": "code",
   "execution_count": 21,
   "id": "09beab19-7cf2-4bad-a057-9c1960059a09",
   "metadata": {},
   "outputs": [],
   "source": [
    "tract_catalog_path = \"/scratch/gpfs/sd8758/merian/catalog/S20A/$TRACTNUM/meriandr1_use_$TRACTNUM_S20A.fits\"\n",
    "summary_catalog_path = \"/scratch/gpfs/sd8758/merian/catalog/S20A/meriandr1_master_catalog.fits\""
   ]
  },
  {
   "cell_type": "code",
   "execution_count": 13,
   "id": "b9acf87a-6525-4446-a5a0-aa7cbc89c8e4",
   "metadata": {},
   "outputs": [],
   "source": [
    "cat = reader.fits.getdata(summary_catalog_path, 1)"
   ]
  },
  {
   "cell_type": "code",
   "execution_count": 15,
   "id": "b59b16c8-1c79-4a87-9dec-f1c463588242",
   "metadata": {},
   "outputs": [
    {
     "data": {
      "text/plain": [
       "array([159.18706129, 159.18635033, 159.19821403, ..., 217.07302148,\n",
       "       217.10698704, 217.10728159])"
      ]
     },
     "execution_count": 15,
     "metadata": {},
     "output_type": "execute_result"
    }
   ],
   "source": [
    "cat['coord_ra_Merian']"
   ]
  },
  {
   "cell_type": "code",
   "execution_count": 16,
   "id": "6b0640da-9ce2-42ac-8985-76328ae45b88",
   "metadata": {},
   "outputs": [
    {
     "data": {
      "text/plain": [
       "astropy.io.fits.fitsrec.FITS_rec"
      ]
     },
     "execution_count": 16,
     "metadata": {},
     "output_type": "execute_result"
    }
   ],
   "source": [
    "type(cat)"
   ]
  },
  {
   "cell_type": "code",
   "execution_count": 19,
   "id": "6f6a1da0-2eb7-403a-be56-ba6d116ac71e",
   "metadata": {},
   "outputs": [],
   "source": [
    "tractno = 9333"
   ]
  },
  {
   "cell_type": "code",
   "execution_count": 24,
   "id": "b3811d67-cc32-4de8-8476-6ab10cd40572",
   "metadata": {},
   "outputs": [],
   "source": [
    "cat = reader.read_tract_catalog ( 9333 )"
   ]
  },
  {
   "cell_type": "code",
   "execution_count": 25,
   "id": "83e9ad9b-0caf-45ab-99a7-282f741540b0",
   "metadata": {},
   "outputs": [
    {
     "data": {
      "text/plain": [
       "FITS_rec([(3324804415138828596, 159.18706129, -1.48437832e+00, 0.06411364, 9333,  0,  1,  0,  1,  1,  0,  0,                   0, 1, 3527.70908774, 71.31100832,  0., 3223.02308727, 55.37039599, 3662.31510834, 62.73147565, 3236.12510984,  0, 1592.19098317, 43.21574543,  0.        , 1431.33343512, 42.43520983, 1660.28141048, 43.74891169, 1292.47012588,  0, 1199.75756908, 26.61410868, 1063.63548316, 19.99041236, 1260.35440759, 22.98806288, 1147.97549929,  0, 2551.47071372, 62.0171439 , 2290.26921121, 49.5358211 , 2655.78793417, 56.87438666, 2405.03732243,  0, 3647.34670273, 44.59423785, 3186.99572841, 30.55231718, 3870.04509923, 35.2390814 , 3583.99988441,  0,  4.02172270e+03,  82.51307449,  3.48669937e+03, 55.10081884, 4111.36557922,  61.63256633, 3896.10573243,  0, 4420.9669643 , 127.35372612, 3864.37043225, 99.36380994, 4738.62214165, 119.50620263, 4113.12032612,  0, 49.46934801, 36.84284437, 0., 0, 0, 0., 0., 0., 0., 0., 0., 0.,  0,  0,  0,  0,  0, 0.,  0, 0.,  0, 0.,  0, 0.,  0, 0.,  0, 0., 0., 0., 0., 0., 0., 0., 1.),\n",
       "          (3324804415138828678, 159.18635033, -1.48212952e+00, 0.06410473, 9333,  0,  1,  0,  1,  1,  0,  0,                   0, 1, 5289.76325012, 64.28437702,  0., 4674.58087568, 51.58044134, 6051.15738931, 66.25964142, 5525.73408632,  0, 2714.87687326, 43.92864851,  0.        , 2419.52470282, 40.47766065, 3184.22642149, 49.81123839, 2673.57667253,  0, 2210.59684345, 27.98443774, 1972.20228949, 22.53836058, 2657.15802776, 29.35073944, 2463.58616883,  0, 3907.54288492, 57.3671174 , 3466.26169371, 48.67427777, 4634.07429273, 63.05535249, 4245.59445358,  0, 5983.33424735, 41.29461286, 5319.53313395, 30.47823314, 7400.90571754, 40.18808469, 7010.63505575,  0,  6.03970284e+03, 103.77624864,  5.35541245e+03, 76.38861955, 7779.52809691, 104.74630189, 7134.58824248,  0, 6559.26297679, 123.35640813, 5872.6657909 , 99.36693474, 8856.34903399, 151.39374018, 7536.61481337,  0, 82.28691784, 61.80196672, 0., 0, 0, 0., 0., 0., 0., 0., 0., 0.,  0,  0,  0,  0,  0, 0.,  0, 0.,  0, 0.,  0, 0.,  0, 0.,  0, 0., 0., 0., 0., 0., 0., 0., 1.),\n",
       "          (3324804415138828742, 159.19821403, -1.48096276e+00, 0.06406849, 9333,  0,  1,  0,  1,  1,  0,  0,                   0, 1,  401.31850448, 68.3412591 , nan,           nan,         nan,  525.89722749, 75.28570904,  407.04208589,  0,  163.52819742, 42.04944378, -0.00051626,           nan,         nan,  134.79221389, 45.95439059,  105.6029853 ,  0,  128.33861376, 24.42765706,           nan,         nan,  143.21743722, 24.77958737,  127.32651327,  0,  224.21012231, 55.71247861,           nan,         nan,  333.96555212, 65.72346294,  257.27267316,  0,  341.08220594, 39.12482407,           nan,         nan,  370.94229234, 35.95490031,  343.81750748,  0,  2.11865488e+02,  79.55328273,             nan,         nan,  284.15327003,  70.40322311,  266.14289176,  0,  161.55486356, 121.04136444,           nan,         nan,  301.91959455, 143.90435154,  231.75392075,  0,  5.87227262,  3.88895031, 0., 0, 0, 0., 0., 0., 0., 0., 0., 0.,  0,  0,  0,  0,  0, 0.,  0, 0.,  0, 0.,  0, 0.,  0, 0.,  0, 0., 0., 0., 0., 0., 0., 0., 1.),\n",
       "          ...,\n",
       "          (3325156258859748112, 157.83309753, -7.59306135e-03, 0.06161083, 9333, 80,  1,  1,  1,  1,  0,  0, 3325156258859719113, 0,  -15.96797165, 58.74657064, nan,           nan,         nan,  154.45883463, 56.54413865,  110.38734031,  0,  509.5645827 , 57.79899531,  0.00282776,           nan,         nan,  730.95860735, 42.89303892,  610.59107543,  0,    8.13985234, 18.68252662,           nan,         nan,   -4.53853086, 14.96036818,   -3.83667837,  0,   12.9940862 , 34.36380401,           nan,         nan,   11.39390717, 27.34861407,    9.47258631,  0,   45.38692448, 30.96472998,   40.53046668, 18.36185014,   45.23020036, 19.17141807,   41.8315988 ,  0, -4.43063229e+00,  60.9186076 , -3.16730403e+00, 34.51084363,  -16.82741382,  35.89896856,  -15.70182291,  0, -113.55172533,  98.37229889,           nan,         nan,  -41.2503804 ,  81.74569305,  -33.06722714,  0, -0.27181113,  8.81614948, 0., 0, 0, 0., 0., 0., 0., 0., 0., 0.,  0,  0,  0,  0,  0, 0.,  0, 0.,  0, 0.,  0, 0.,  0, 0.,  0, 0., 0., 0., 0., 0., 0., 0., 1.),\n",
       "          (3325156258859748143, 157.83060026, -5.38919705e-03, 0.06158034, 9333, 80,  1,  1,  1,  1,  0,  0, 3325156258859719137, 0,   34.85668877, 60.34234899, nan,           nan,         nan,   37.00281646, 74.05624186,   30.3653948 ,  0,  298.24646792, 53.79837216,         nan,           nan,         nan,  358.13130204, 60.05284588,  307.85084868,  0,   88.09924451, 17.13303132,           nan,         nan,  135.32641226, 19.46119158,  119.62568986,  0,   65.61029082, 31.66293206,           nan,         nan,   92.96356339, 34.98721891,   85.10726168,  0,  157.75773482, 31.63321901,           nan,         nan,  216.76616433, 32.12610775,  192.57794096,  0,  1.62611515e+02,  63.84510861,             nan,         nan,  157.49912383,  63.57432338,  139.60891434,  0,   42.64404257,  99.74334442,           nan,         nan,  122.90120461, 104.96927897,  117.5939683 ,  0,  0.57764885,  5.54378238, 0., 0, 0, 0., 0., 0., 0., 0., 0., 0.,  0,  0,  0,  0,  0, 0.,  0, 0.,  0, 0.,  0, 0.,  0, 0.,  0, 0., 0., 0., 0., 0., 0., 0., 1.),\n",
       "          (3325156258859748226, 157.85719453, -1.31853460e-03, 0.06182725, 9333, 80,  1,  1,  1,  1,  0,  0, 3325156258859719204, 0,  220.86695825, 60.50559041, nan,           nan,         nan,  249.01315013, 74.59737135,  219.90403529,  0,  314.27466509, 54.41410893,         nan,           nan,         nan,  371.32446208, 66.20836448,  314.95803509,  0,   15.20067553, 16.95698675,           nan,         nan,   27.74476884, 21.5580808 ,   23.68396531,  0,   10.79813615, 32.02938818,           nan,         nan,  -36.38713102, 38.13470512,  -34.63345758,  0, -100.33949522, 33.72980833,           nan,         nan,  -71.99771428, 39.08265086,  -61.57676236,  0, -6.68088840e+01,  65.15855645,             nan,         nan,  -66.98301784,  72.83306643,  -56.99742451,  0, -291.50633582, 107.74022751,           nan,         nan, -386.93531944, 141.29185979, -327.44176145,  0,  3.65035622,  5.77560988, 0., 0, 0, 0., 0., 0., 0., 0., 0., 0.,  0,  0,  0,  0,  0, 0.,  0, 0.,  0, 0.,  0, 0.,  0, 0.,  0, 0., 0., 0., 0., 0., 0., 0., 1.)],\n",
       "         dtype=(numpy.record, [('objectId_Merian', '>i8'), ('coord_ra_Merian', '>f8'), ('coord_dec_Merian', '>f8'), ('ebv_Merian', '>f8'), ('tract_Merian', '>i8'), ('patch_Merian', '>i8'), ('detect_isPrimary_Merian', 'i1'), ('detect_isDeblendedModelSource_Merian', 'i1'), ('detect_isPatchInner_Merian', 'i1'), ('detect_isTractInner_Merian', 'i1'), ('merge_peak_sky_Merian', 'i1'), ('deblend_skipped_Merian', 'i1'), ('parentObjectId_Merian', '>i8'), ('deblend_nChild_Merian', '>i4'), ('N708_gaap1p0Flux_Merian', '>f8'), ('N708_gaap1p0FluxErr_Merian', '>f8'), ('N708_blendedness_Merian', '>f8'), ('N708_gaapOptimalFlux_Merian', '>f8'), ('N708_gaapOptimalFluxErr_Merian', '>f8'), ('N708_cModelFlux_Merian', '>f8'), ('N708_cModelFluxErr_Merian', '>f8'), ('N708_cModelFlux_inner_Merian', '>f8'), ('N708_cModel_flag_Merian', 'i1'), ('N540_gaap1p0Flux_Merian', '>f8'), ('N540_gaap1p0FluxErr_Merian', '>f8'), ('N540_blendedness_Merian', '>f8'), ('N540_gaapOptimalFlux_Merian', '>f8'), ('N540_gaapOptimalFluxErr_Merian', '>f8'), ('N540_cModelFlux_Merian', '>f8'), ('N540_cModelFluxErr_Merian', '>f8'), ('N540_cModelFlux_inner_Merian', '>f8'), ('N540_cModel_flag_Merian', 'i1'), ('g_gaap1p0Flux_Merian', '>f8'), ('g_gaap1p0FluxErr_Merian', '>f8'), ('g_gaapOptimalFlux_Merian', '>f8'), ('g_gaapOptimalFluxErr_Merian', '>f8'), ('g_cModelFlux_Merian', '>f8'), ('g_cModelFluxErr_Merian', '>f8'), ('g_cModelFlux_inner_Merian', '>f8'), ('g_cModel_flag_Merian', 'i1'), ('r_gaap1p0Flux_Merian', '>f8'), ('r_gaap1p0FluxErr_Merian', '>f8'), ('r_gaapOptimalFlux_Merian', '>f8'), ('r_gaapOptimalFluxErr_Merian', '>f8'), ('r_cModelFlux_Merian', '>f8'), ('r_cModelFluxErr_Merian', '>f8'), ('r_cModelFlux_inner_Merian', '>f8'), ('r_cModel_flag_Merian', 'i1'), ('i_gaap1p0Flux_Merian', '>f8'), ('i_gaap1p0FluxErr_Merian', '>f8'), ('i_gaapOptimalFlux_Merian', '>f8'), ('i_gaapOptimalFluxErr_Merian', '>f8'), ('i_cModelFlux_Merian', '>f8'), ('i_cModelFluxErr_Merian', '>f8'), ('i_cModelFlux_inner_Merian', '>f8'), ('i_cModel_flag_Merian', 'i1'), ('z_gaap1p0Flux_Merian', '>f8'), ('z_gaap1p0FluxErr_Merian', '>f8'), ('z_gaapOptimalFlux_Merian', '>f8'), ('z_gaapOptimalFluxErr_Merian', '>f8'), ('z_cModelFlux_Merian', '>f8'), ('z_cModelFluxErr_Merian', '>f8'), ('z_cModelFlux_inner_Merian', '>f8'), ('z_cModel_flag_Merian', 'i1'), ('y_gaap1p0Flux_Merian', '>f8'), ('y_gaap1p0FluxErr_Merian', '>f8'), ('y_gaapOptimalFlux_Merian', '>f8'), ('y_gaapOptimalFluxErr_Merian', '>f8'), ('y_cModelFlux_Merian', '>f8'), ('y_cModelFluxErr_Merian', '>f8'), ('y_cModelFlux_inner_Merian', '>f8'), ('y_cModel_flag_Merian', 'i1'), ('SNR_N708_Merian', '>f8'), ('SNR_N540_Merian', '>f8'), ('IsMask_Merian', '>f8'), ('object_id_HSCS20A', '>i8'), ('skymap_id_HSCS20A', '>i4'), ('ra_HSCS20A', '>f8'), ('dec_HSCS20A', '>f8'), ('m_g_blendedness_abs_HSCS20A', '>f4'), ('m_r_blendedness_abs_HSCS20A', '>f4'), ('m_i_blendedness_abs_HSCS20A', '>f4'), ('m_z_blendedness_abs_HSCS20A', '>f4'), ('m_y_blendedness_abs_HSCS20A', '>f4'), ('m_g_blendedness_flag_HSCS20A', 'i1'), ('m_r_blendedness_flag_HSCS20A', 'i1'), ('m_i_blendedness_flag_HSCS20A', 'i1'), ('m_z_blendedness_flag_HSCS20A', 'i1'), ('m_y_blendedness_flag_HSCS20A', 'i1'), ('g_apertureflux_10_flux_HSCS20A', '>f4'), ('g_apertureflux_10_flag_HSCS20A', 'i1'), ('r_apertureflux_10_flux_HSCS20A', '>f4'), ('r_apertureflux_10_flag_HSCS20A', 'i1'), ('i_apertureflux_10_flux_HSCS20A', '>f4'), ('i_apertureflux_10_flag_HSCS20A', 'i1'), ('z_apertureflux_10_flux_HSCS20A', '>f4'), ('z_apertureflux_10_flag_HSCS20A', 'i1'), ('y_apertureflux_10_flux_HSCS20A', '>f4'), ('y_apertureflux_10_flag_HSCS20A', 'i1'), ('g_extendedness_value_HSCS20A', '>f4'), ('r_extendedness_value_HSCS20A', '>f4'), ('i_extendedness_value_HSCS20A', '>f4'), ('z_extendedness_value_HSCS20A', '>f4'), ('y_extendedness_value_HSCS20A', '>f4'), ('IsMask_HSCS20A', '>f8'), ('hsc_match', '>f8'), ('SciUse', '>f8')]))"
      ]
     },
     "execution_count": 25,
     "metadata": {},
     "output_type": "execute_result"
    }
   ],
   "source": [
    "cat"
   ]
  },
  {
   "cell_type": "code",
   "execution_count": null,
   "id": "4a7a0fa1-773b-479c-aa1d-f8c2d81b4b16",
   "metadata": {},
   "outputs": [],
   "source": []
  }
 ],
 "metadata": {
  "kernelspec": {
   "display_name": "Python 3 (ipykernel)",
   "language": "python",
   "name": "python3"
  },
  "language_info": {
   "codemirror_mode": {
    "name": "ipython",
    "version": 3
   },
   "file_extension": ".py",
   "mimetype": "text/x-python",
   "name": "python",
   "nbconvert_exporter": "python",
   "pygments_lexer": "ipython3",
   "version": "3.10.5"
  }
 },
 "nbformat": 4,
 "nbformat_minor": 5
}
