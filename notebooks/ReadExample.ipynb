{
 "cells": [
  {
   "cell_type": "code",
   "execution_count": 1,
   "id": "e8815d67-fbba-4349-aa51-86f97ed80ee0",
   "metadata": {},
   "outputs": [],
   "source": [
    "%load_ext autoreload\n",
    "%autoreload 2"
   ]
  },
  {
   "cell_type": "code",
   "execution_count": 2,
   "id": "0fb79782-9440-4dd4-bf52-15d1e6073240",
   "metadata": {},
   "outputs": [],
   "source": [
    "import numpy as np\n",
    "import matplotlib.pyplot as plt\n",
    "from astropy.io import ascii\n",
    "from astropy import coordinates\n",
    "from astropy import constants as co\n",
    "from astropy import units as u\n",
    "from maria import reader"
   ]
  },
  {
   "cell_type": "code",
   "execution_count": 3,
   "id": "09beab19-7cf2-4bad-a057-9c1960059a09",
   "metadata": {},
   "outputs": [],
   "source": [
    "tract_catalog_path = \"/scratch/gpfs/sd8758/merian/catalog/S20A/$TRACTNUM/meriandr1_use_$TRACTNUM_S20A.fits\"\n",
    "summary_catalog_path = \"/scratch/gpfs/sd8758/merian/catalog/S20A/meriandr1_master_catalog.fits\""
   ]
  },
  {
   "cell_type": "code",
   "execution_count": 4,
   "id": "b9acf87a-6525-4446-a5a0-aa7cbc89c8e4",
   "metadata": {},
   "outputs": [],
   "source": [
    "summary  = reader.read_summary_catalog()"
   ]
  },
  {
   "cell_type": "code",
   "execution_count": 6,
   "id": "fc6a4a17-e365-46f6-a34d-e7fa135cd693",
   "metadata": {},
   "outputs": [],
   "source": [
    "cat = reader.read_tract_catalog(9333)"
   ]
  },
  {
   "cell_type": "code",
   "execution_count": 9,
   "id": "83e9ad9b-0caf-45ab-99a7-282f741540b0",
   "metadata": {},
   "outputs": [],
   "source": [
    "columns = [\n",
    "    'coord_ra_Merian', \n",
    "    'coord_dec_Merian',\n",
    "    'N708_cModelFlux_Merian',\n",
    "    'N708_cModelFluxErr_Merian',\n",
    "    'r_cModelFlux_Merian',\n",
    "    'r_cModelFluxErr_Merian',\n",
    "    'r_gaap1p0Flux_Merian', \n",
    "    'r_gaap1p0FluxErr_Merian', \n",
    "    'N708_gaap1p0Flux_Merian', \n",
    "    'N708_gaap1p0FluxErr_Merian',\n",
    "    'i_gaap1p0Flux_Merian', \n",
    "    'i_gaap1p0FluxErr_Merian'    \n",
    "]"
   ]
  },
  {
   "cell_type": "code",
   "execution_count": 10,
   "id": "e15e287f-f160-4546-ad8e-54ec9b47b659",
   "metadata": {},
   "outputs": [
    {
     "name": "stdout",
     "output_type": "stream",
     "text": [
      "Warning: reading from scratch ./scratch//DR1_n708_detect.csv\n",
      "Concatenating 355 tracts\n",
      "Processed 50/355 tracts after 115.25 sec\n",
      "Processed 100/355 tracts after 228.62 sec\n",
      "Processed 150/355 tracts after 352.20 sec\n",
      "Processed 200/355 tracts after 489.90 sec\n",
      "Processed 250/355 tracts after 612.29 sec\n",
      "Processed 300/355 tracts after 739.37 sec\n",
      "Processed 350/355 tracts after 837.50 sec\n"
     ]
    }
   ],
   "source": [
    "catalog = reader.assemble_catalog ( columns, usecode='n708_detect', verbose=True, )"
   ]
  },
  {
   "cell_type": "code",
   "execution_count": 11,
   "id": "89e03a85-a1b6-4f32-af64-ec110e2087f5",
   "metadata": {},
   "outputs": [
    {
     "data": {
      "text/html": [
       "<div>\n",
       "<style scoped>\n",
       "    .dataframe tbody tr th:only-of-type {\n",
       "        vertical-align: middle;\n",
       "    }\n",
       "\n",
       "    .dataframe tbody tr th {\n",
       "        vertical-align: top;\n",
       "    }\n",
       "\n",
       "    .dataframe thead th {\n",
       "        text-align: right;\n",
       "    }\n",
       "</style>\n",
       "<table border=\"1\" class=\"dataframe\">\n",
       "  <thead>\n",
       "    <tr style=\"text-align: right;\">\n",
       "      <th></th>\n",
       "      <th>coord_ra_Merian</th>\n",
       "      <th>coord_dec_Merian</th>\n",
       "      <th>N708_cModelFlux_Merian</th>\n",
       "      <th>N708_cModelFluxErr_Merian</th>\n",
       "      <th>r_cModelFlux_Merian</th>\n",
       "      <th>r_cModelFluxErr_Merian</th>\n",
       "      <th>r_gaap1p0Flux_Merian</th>\n",
       "      <th>r_gaap1p0FluxErr_Merian</th>\n",
       "      <th>N708_gaap1p0Flux_Merian</th>\n",
       "      <th>N708_gaap1p0FluxErr_Merian</th>\n",
       "      <th>i_gaap1p0Flux_Merian</th>\n",
       "      <th>i_gaap1p0FluxErr_Merian</th>\n",
       "    </tr>\n",
       "  </thead>\n",
       "  <tbody>\n",
       "    <tr>\n",
       "      <th>3324804415138828596</th>\n",
       "      <td>159.187061</td>\n",
       "      <td>-1.484378</td>\n",
       "      <td>3662.315108</td>\n",
       "      <td>62.731476</td>\n",
       "      <td>2655.787934</td>\n",
       "      <td>56.874387</td>\n",
       "      <td>2551.470714</td>\n",
       "      <td>62.017144</td>\n",
       "      <td>3527.709088</td>\n",
       "      <td>71.311008</td>\n",
       "      <td>3647.346703</td>\n",
       "      <td>44.594238</td>\n",
       "    </tr>\n",
       "    <tr>\n",
       "      <th>3324804415138828678</th>\n",
       "      <td>159.18635</td>\n",
       "      <td>-1.48213</td>\n",
       "      <td>6051.157389</td>\n",
       "      <td>66.259641</td>\n",
       "      <td>4634.074293</td>\n",
       "      <td>63.055352</td>\n",
       "      <td>3907.542885</td>\n",
       "      <td>57.367117</td>\n",
       "      <td>5289.76325</td>\n",
       "      <td>64.284377</td>\n",
       "      <td>5983.334247</td>\n",
       "      <td>41.294613</td>\n",
       "    </tr>\n",
       "    <tr>\n",
       "      <th>3324804415138828742</th>\n",
       "      <td>159.198214</td>\n",
       "      <td>-1.480963</td>\n",
       "      <td>525.897227</td>\n",
       "      <td>75.285709</td>\n",
       "      <td>333.965552</td>\n",
       "      <td>65.723463</td>\n",
       "      <td>224.210122</td>\n",
       "      <td>55.712479</td>\n",
       "      <td>401.318504</td>\n",
       "      <td>68.341259</td>\n",
       "      <td>341.082206</td>\n",
       "      <td>39.124824</td>\n",
       "    </tr>\n",
       "    <tr>\n",
       "      <th>3324804415138828763</th>\n",
       "      <td>159.177829</td>\n",
       "      <td>-1.480749</td>\n",
       "      <td>437.877904</td>\n",
       "      <td>64.104349</td>\n",
       "      <td>267.300136</td>\n",
       "      <td>63.900121</td>\n",
       "      <td>165.565754</td>\n",
       "      <td>55.987632</td>\n",
       "      <td>365.016033</td>\n",
       "      <td>68.238886</td>\n",
       "      <td>357.252525</td>\n",
       "      <td>39.030795</td>\n",
       "    </tr>\n",
       "    <tr>\n",
       "      <th>3324804415138828775</th>\n",
       "      <td>159.245787</td>\n",
       "      <td>-1.480263</td>\n",
       "      <td>1598.761891</td>\n",
       "      <td>58.267648</td>\n",
       "      <td>1352.442132</td>\n",
       "      <td>54.899443</td>\n",
       "      <td>1303.138811</td>\n",
       "      <td>59.477666</td>\n",
       "      <td>1491.633181</td>\n",
       "      <td>71.219362</td>\n",
       "      <td>1621.040046</td>\n",
       "      <td>38.624897</td>\n",
       "    </tr>\n",
       "  </tbody>\n",
       "</table>\n",
       "</div>"
      ],
      "text/plain": [
       "                    coord_ra_Merian coord_dec_Merian N708_cModelFlux_Merian  \\\n",
       "3324804415138828596      159.187061        -1.484378            3662.315108   \n",
       "3324804415138828678       159.18635         -1.48213            6051.157389   \n",
       "3324804415138828742      159.198214        -1.480963             525.897227   \n",
       "3324804415138828763      159.177829        -1.480749             437.877904   \n",
       "3324804415138828775      159.245787        -1.480263            1598.761891   \n",
       "\n",
       "                    N708_cModelFluxErr_Merian r_cModelFlux_Merian  \\\n",
       "3324804415138828596                 62.731476         2655.787934   \n",
       "3324804415138828678                 66.259641         4634.074293   \n",
       "3324804415138828742                 75.285709          333.965552   \n",
       "3324804415138828763                 64.104349          267.300136   \n",
       "3324804415138828775                 58.267648         1352.442132   \n",
       "\n",
       "                    r_cModelFluxErr_Merian r_gaap1p0Flux_Merian  \\\n",
       "3324804415138828596              56.874387          2551.470714   \n",
       "3324804415138828678              63.055352          3907.542885   \n",
       "3324804415138828742              65.723463           224.210122   \n",
       "3324804415138828763              63.900121           165.565754   \n",
       "3324804415138828775              54.899443          1303.138811   \n",
       "\n",
       "                    r_gaap1p0FluxErr_Merian N708_gaap1p0Flux_Merian  \\\n",
       "3324804415138828596               62.017144             3527.709088   \n",
       "3324804415138828678               57.367117              5289.76325   \n",
       "3324804415138828742               55.712479              401.318504   \n",
       "3324804415138828763               55.987632              365.016033   \n",
       "3324804415138828775               59.477666             1491.633181   \n",
       "\n",
       "                    N708_gaap1p0FluxErr_Merian i_gaap1p0Flux_Merian  \\\n",
       "3324804415138828596                  71.311008          3647.346703   \n",
       "3324804415138828678                  64.284377          5983.334247   \n",
       "3324804415138828742                  68.341259           341.082206   \n",
       "3324804415138828763                  68.238886           357.252525   \n",
       "3324804415138828775                  71.219362          1621.040046   \n",
       "\n",
       "                    i_gaap1p0FluxErr_Merian  \n",
       "3324804415138828596               44.594238  \n",
       "3324804415138828678               41.294613  \n",
       "3324804415138828742               39.124824  \n",
       "3324804415138828763               39.030795  \n",
       "3324804415138828775               38.624897  "
      ]
     },
     "execution_count": 11,
     "metadata": {},
     "output_type": "execute_result"
    }
   ],
   "source": [
    "catalog.head()"
   ]
  },
  {
   "cell_type": "code",
   "execution_count": 128,
   "id": "4a13dc5b-6966-438f-953d-b78d078f5167",
   "metadata": {},
   "outputs": [
    {
     "data": {
      "text/plain": [
       "count     5.676197e+07\n",
       "unique    5.676196e+07\n",
       "top       3.882138e+02\n",
       "freq      2.000000e+00\n",
       "dtype: float64"
      ]
     },
     "execution_count": 128,
     "metadata": {},
     "output_type": "execute_result"
    }
   ],
   "source": [
    "(catalog['N708_gaap1p0Flux_Merian'] - catalog['r_gaap1p0Flux_Merian']).describe()"
   ]
  },
  {
   "cell_type": "code",
   "execution_count": 129,
   "id": "7b50d9ca-6ada-4a45-bf85-2e46d4e09889",
   "metadata": {},
   "outputs": [],
   "source": [
    "medcontinuum = 0.5*(catalog['r_gaap1p0Flux_Merian'] + catalog['i_gaap1p0Flux_Merian'])"
   ]
  },
  {
   "cell_type": "code",
   "execution_count": 135,
   "id": "ed85ee9f-1b16-4ec3-84bb-1af9b97c92e8",
   "metadata": {},
   "outputs": [],
   "source": [
    "fluxexcess = (catalog['N708_gaap1p0Flux_Merian'] - medcontinuum).astype(float)"
   ]
  },
  {
   "cell_type": "code",
   "execution_count": null,
   "id": "225e8bab-0ead-415d-9112-0e4e33aaeee2",
   "metadata": {},
   "outputs": [],
   "source": [
    "print('a')"
   ]
  },
  {
   "cell_type": "code",
   "execution_count": 141,
   "id": "7785ce2f-e4c4-4c06-850e-8a69d8bb84ff",
   "metadata": {},
   "outputs": [
    {
     "data": {
      "text/plain": [
       "Text(0.5, 0, 'N708 - 0.5*(r+i)')"
      ]
     },
     "execution_count": 141,
     "metadata": {},
     "output_type": "execute_result"
    },
    {
     "data": {
      "image/png": "[encoded data removed]",
      "text/plain": [
       "<Figure size 432x288 with 1 Axes>"
      ]
     },
     "metadata": {
      "needs_background": "light"
     },
     "output_type": "display_data"
    }
   ],
   "source": [
    "_ = plt.hist ( fluxexcess, bins=np.linspace(-1000.,1000,100) )\n",
    "plt.xlabel('N708 - 0.5*(r+i)')"
   ]
  },
  {
   "cell_type": "code",
   "execution_count": 147,
   "id": "4540b71d-7d86-4238-841f-51ead2ccff04",
   "metadata": {},
   "outputs": [],
   "source": [
    "alfalfa = ascii.read( '/scratch/gpfs/kadofong/merian_scratch/external_catalogs/alfalfa/table2.dat',\n",
    "                      readme='/scratch/gpfs/kadofong/merian_scratch/external_catalogs/alfalfa/ReadMe')\n",
    "alfalfa.add_index('AGC')              "
   ]
  },
  {
   "cell_type": "code",
   "execution_count": 150,
   "id": "fc92c10c-37d8-4e93-99cb-3d1dd111bc6f",
   "metadata": {},
   "outputs": [],
   "source": [
    "alfalfa['z'] = alfalfa['Vhel'] / co.c.to(u.km/u.s).value"
   ]
  },
  {
   "cell_type": "code",
   "execution_count": 211,
   "id": "708c52cb-cf40-471f-a208-4ba9e86f60c6",
   "metadata": {},
   "outputs": [
    {
     "data": {
      "text/plain": [
       "31502"
      ]
     },
     "execution_count": 211,
     "metadata": {},
     "output_type": "execute_result"
    }
   ],
   "source": [
    "len(optical_strings)"
   ]
  },
  {
   "cell_type": "code",
   "execution_count": 230,
   "id": "c5d8299a-2de1-41f5-89ea-8d0d6da67dcb",
   "metadata": {},
   "outputs": [
    {
     "data": {
      "text/plain": [
       "31158"
      ]
     },
     "execution_count": 230,
     "metadata": {},
     "output_type": "execute_result"
    }
   ],
   "source": [
    "len(alfalfa[~alfalfa['RAOh'].mask])"
   ]
  },
  {
   "cell_type": "code",
   "execution_count": 272,
   "id": "7ff0620a-3b2d-4c9a-ad6f-0cca1cf049cf",
   "metadata": {
    "tags": []
   },
   "outputs": [],
   "source": [
    "\n",
    "hi_strings = [ f\"{x['RAh']}:{x['RAm']}:{x['RAs']} {x['DE-']}{x['DEd']}:{x['DEm']}:{x['DEs']}\" for x in alfalfa ]\n",
    "optical_strings = [ f\"{x['RAOh']}:{x['RAOm']}:{x['RAOs']} {x['DEO-']}{x['DEOd']}:{x['DEOm']}:{min(59.9,x['DEOs'])}\" for x in alfalfa[~alfalfa['RAOh'].mask] ]\n",
    "#coord_strings = []\n"
   ]
  },
  {
   "cell_type": "code",
   "execution_count": 346,
   "id": "d42f9344-8035-45a7-88cc-c6340d8e287a",
   "metadata": {},
   "outputs": [],
   "source": [
    "acoords = coordinates.SkyCoord ( hi_strings, unit=(u.hourangle, u.deg))"
   ]
  },
  {
   "cell_type": "code",
   "execution_count": 319,
   "id": "2c3a0ee4-3165-4210-aa56-036b7ec9760b",
   "metadata": {},
   "outputs": [],
   "source": [
    "snr = catalog['N708_gaap1p0Flux_Merian']/catalog['N708_gaap1p0FluxErr_Merian']"
   ]
  },
  {
   "cell_type": "code",
   "execution_count": 332,
   "id": "176eefd9-514a-47a8-a442-72f5fe0263b4",
   "metadata": {},
   "outputs": [],
   "source": [
    "stripped = catalog.loc[(fluxexcess > np.nanquantile(fluxexcess, 0.95))&(snr>10.)&(catalog['coord_dec_Merian']>-1.)&(catalog['N708_gaap1p0Flux_Merian']>np.nanquantile(catalog['N708_gaap1p0Flux_Merian'].astype(float), .95))]"
   ]
  },
  {
   "cell_type": "code",
   "execution_count": 333,
   "id": "b62f0a93-409f-41d6-80c2-96cd4e924201",
   "metadata": {},
   "outputs": [
    {
     "data": {
      "text/plain": [
       "(1443482, 8)"
      ]
     },
     "execution_count": 333,
     "metadata": {},
     "output_type": "execute_result"
    }
   ],
   "source": [
    "stripped.shape"
   ]
  },
  {
   "cell_type": "code",
   "execution_count": 334,
   "id": "f55b1e28-bd6f-44dd-8beb-65541a96ac03",
   "metadata": {},
   "outputs": [
    {
     "data": {
      "text/html": [
       "<div>\n",
       "<style scoped>\n",
       "    .dataframe tbody tr th:only-of-type {\n",
       "        vertical-align: middle;\n",
       "    }\n",
       "\n",
       "    .dataframe tbody tr th {\n",
       "        vertical-align: top;\n",
       "    }\n",
       "\n",
       "    .dataframe thead th {\n",
       "        text-align: right;\n",
       "    }\n",
       "</style>\n",
       "<table border=\"1\" class=\"dataframe\">\n",
       "  <thead>\n",
       "    <tr style=\"text-align: right;\">\n",
       "      <th></th>\n",
       "      <th>coord_ra_Merian</th>\n",
       "      <th>coord_dec_Merian</th>\n",
       "      <th>r_gaap1p0Flux_Merian</th>\n",
       "      <th>r_gaap1p0FluxErr_Merian</th>\n",
       "      <th>N708_gaap1p0Flux_Merian</th>\n",
       "      <th>N708_gaap1p0FluxErr_Merian</th>\n",
       "      <th>i_gaap1p0Flux_Merian</th>\n",
       "      <th>i_gaap1p0FluxErr_Merian</th>\n",
       "    </tr>\n",
       "  </thead>\n",
       "  <tbody>\n",
       "    <tr>\n",
       "      <th>3324923162394642683</th>\n",
       "      <td>159.232782</td>\n",
       "      <td>-0.982432</td>\n",
       "      <td>8236.455066</td>\n",
       "      <td>53.619175</td>\n",
       "      <td>13630.538418</td>\n",
       "      <td>74.791325</td>\n",
       "      <td>16614.426481</td>\n",
       "      <td>40.797757</td>\n",
       "    </tr>\n",
       "    <tr>\n",
       "      <th>3324923162394643600</th>\n",
       "      <td>159.172133</td>\n",
       "      <td>-0.984207</td>\n",
       "      <td>34453.933006</td>\n",
       "      <td>81.315302</td>\n",
       "      <td>41636.545205</td>\n",
       "      <td>105.533925</td>\n",
       "      <td>42330.903574</td>\n",
       "      <td>71.079635</td>\n",
       "    </tr>\n",
       "    <tr>\n",
       "      <th>3324923162394643939</th>\n",
       "      <td>159.256692</td>\n",
       "      <td>-0.978171</td>\n",
       "      <td>7728.183263</td>\n",
       "      <td>55.801394</td>\n",
       "      <td>12451.751432</td>\n",
       "      <td>75.650592</td>\n",
       "      <td>13078.214477</td>\n",
       "      <td>65.4275</td>\n",
       "    </tr>\n",
       "    <tr>\n",
       "      <th>3324923162394644031</th>\n",
       "      <td>159.187711</td>\n",
       "      <td>-0.978656</td>\n",
       "      <td>9271.387087</td>\n",
       "      <td>44.012499</td>\n",
       "      <td>13559.159918</td>\n",
       "      <td>73.848369</td>\n",
       "      <td>14897.481226</td>\n",
       "      <td>46.995117</td>\n",
       "    </tr>\n",
       "    <tr>\n",
       "      <th>3324923162394644404</th>\n",
       "      <td>159.172848</td>\n",
       "      <td>-0.974977</td>\n",
       "      <td>81365.731894</td>\n",
       "      <td>93.294553</td>\n",
       "      <td>105489.882039</td>\n",
       "      <td>144.488651</td>\n",
       "      <td>111957.75373</td>\n",
       "      <td>95.592872</td>\n",
       "    </tr>\n",
       "    <tr>\n",
       "      <th>...</th>\n",
       "      <td>...</td>\n",
       "      <td>...</td>\n",
       "      <td>...</td>\n",
       "      <td>...</td>\n",
       "      <td>...</td>\n",
       "      <td>...</td>\n",
       "      <td>...</td>\n",
       "      <td>...</td>\n",
       "    </tr>\n",
       "    <tr>\n",
       "      <th>3339295978392931189</th>\n",
       "      <td>218.429786</td>\n",
       "      <td>-0.375654</td>\n",
       "      <td>11602.970762</td>\n",
       "      <td>41.188794</td>\n",
       "      <td>17035.997831</td>\n",
       "      <td>130.165338</td>\n",
       "      <td>20721.146154</td>\n",
       "      <td>40.100388</td>\n",
       "    </tr>\n",
       "    <tr>\n",
       "      <th>3339295978392931228</th>\n",
       "      <td>218.429241</td>\n",
       "      <td>-0.364826</td>\n",
       "      <td>33614.34863</td>\n",
       "      <td>64.792041</td>\n",
       "      <td>39860.012979</td>\n",
       "      <td>205.893475</td>\n",
       "      <td>39750.76624</td>\n",
       "      <td>74.059725</td>\n",
       "    </tr>\n",
       "    <tr>\n",
       "      <th>3339295978392931463</th>\n",
       "      <td>218.429393</td>\n",
       "      <td>-0.318645</td>\n",
       "      <td>7285.225666</td>\n",
       "      <td>40.454298</td>\n",
       "      <td>9725.042548</td>\n",
       "      <td>125.309592</td>\n",
       "      <td>10091.369271</td>\n",
       "      <td>35.992468</td>\n",
       "    </tr>\n",
       "    <tr>\n",
       "      <th>3339295978392931469</th>\n",
       "      <td>218.430309</td>\n",
       "      <td>-0.314908</td>\n",
       "      <td>18247.568189</td>\n",
       "      <td>44.061312</td>\n",
       "      <td>27333.77524</td>\n",
       "      <td>134.251315</td>\n",
       "      <td>30206.886088</td>\n",
       "      <td>45.040292</td>\n",
       "    </tr>\n",
       "    <tr>\n",
       "      <th>3339295978392931536</th>\n",
       "      <td>218.429371</td>\n",
       "      <td>-0.300802</td>\n",
       "      <td>30168.813211</td>\n",
       "      <td>63.55465</td>\n",
       "      <td>38298.504495</td>\n",
       "      <td>200.739997</td>\n",
       "      <td>40077.963421</td>\n",
       "      <td>62.687841</td>\n",
       "    </tr>\n",
       "  </tbody>\n",
       "</table>\n",
       "<p>1443482 rows × 8 columns</p>\n",
       "</div>"
      ],
      "text/plain": [
       "                    coord_ra_Merian  ... i_gaap1p0FluxErr_Merian\n",
       "3324923162394642683      159.232782  ...               40.797757\n",
       "3324923162394643600      159.172133  ...               71.079635\n",
       "3324923162394643939      159.256692  ...                 65.4275\n",
       "3324923162394644031      159.187711  ...               46.995117\n",
       "3324923162394644404      159.172848  ...               95.592872\n",
       "...                             ...  ...                     ...\n",
       "3339295978392931189      218.429786  ...               40.100388\n",
       "3339295978392931228      218.429241  ...               74.059725\n",
       "3339295978392931463      218.429393  ...               35.992468\n",
       "3339295978392931469      218.430309  ...               45.040292\n",
       "3339295978392931536      218.429371  ...               62.687841\n",
       "\n",
       "[1443482 rows x 8 columns]"
      ]
     },
     "execution_count": 334,
     "metadata": {},
     "output_type": "execute_result"
    }
   ],
   "source": [
    "stripped"
   ]
  },
  {
   "cell_type": "code",
   "execution_count": 347,
   "id": "730f8b0a-f541-478d-a99b-3fb4b7cd9835",
   "metadata": {
    "collapsed": true,
    "jupyter": {
     "outputs_hidden": true
    },
    "tags": []
   },
   "outputs": [
    {
     "ename": "KeyboardInterrupt",
     "evalue": "",
     "output_type": "error",
     "traceback": [
      "\u001b[0;31m---------------------------------------------------------------------------\u001b[0m",
      "\u001b[0;31mKeyboardInterrupt\u001b[0m                         Traceback (most recent call last)",
      "Input \u001b[0;32mIn [347]\u001b[0m, in \u001b[0;36m<cell line: 1>\u001b[0;34m()\u001b[0m\n\u001b[0;32m----> 1\u001b[0m mcoords \u001b[38;5;241m=\u001b[39m \u001b[43mcoordinates\u001b[49m\u001b[38;5;241;43m.\u001b[39;49m\u001b[43mSkyCoord\u001b[49m\u001b[43m \u001b[49m\u001b[43m(\u001b[49m\u001b[43m \u001b[49m\u001b[43mstripped\u001b[49m\u001b[43m[\u001b[49m\u001b[38;5;124;43m'\u001b[39;49m\u001b[38;5;124;43mcoord_ra_Merian\u001b[39;49m\u001b[38;5;124;43m'\u001b[39;49m\u001b[43m]\u001b[49m\u001b[43m,\u001b[49m\u001b[43m \u001b[49m\u001b[43mstripped\u001b[49m\u001b[43m[\u001b[49m\u001b[38;5;124;43m'\u001b[39;49m\u001b[38;5;124;43mcoord_dec_Merian\u001b[39;49m\u001b[38;5;124;43m'\u001b[39;49m\u001b[43m]\u001b[49m\u001b[43m,\u001b[49m\u001b[43m \u001b[49m\u001b[43munit\u001b[49m\u001b[38;5;241;43m=\u001b[39;49m\u001b[43mu\u001b[49m\u001b[38;5;241;43m.\u001b[39;49m\u001b[43mdeg\u001b[49m\u001b[43m \u001b[49m\u001b[43m)\u001b[49m\n",
      "File \u001b[0;32m/projects/HSC/LSST/stack_20220527/conda/envs/lsst-scipipe-4.1.0/lib/python3.10/site-packages/astropy/coordinates/sky_coordinate.py:331\u001b[0m, in \u001b[0;36mSkyCoord.__init__\u001b[0;34m(self, copy, *args, **kwargs)\u001b[0m\n\u001b[1;32m    327\u001b[0m \u001b[38;5;66;03m# Parse the args and kwargs to assemble a sanitized and validated\u001b[39;00m\n\u001b[1;32m    328\u001b[0m \u001b[38;5;66;03m# kwargs dict for initializing attributes for this object and for\u001b[39;00m\n\u001b[1;32m    329\u001b[0m \u001b[38;5;66;03m# creating the internal self._sky_coord_frame object\u001b[39;00m\n\u001b[1;32m    330\u001b[0m args \u001b[38;5;241m=\u001b[39m \u001b[38;5;28mlist\u001b[39m(args)  \u001b[38;5;66;03m# Make it mutable\u001b[39;00m\n\u001b[0;32m--> 331\u001b[0m skycoord_kwargs, components, info \u001b[38;5;241m=\u001b[39m \u001b[43m_parse_coordinate_data\u001b[49m\u001b[43m(\u001b[49m\n\u001b[1;32m    332\u001b[0m \u001b[43m    \u001b[49m\u001b[43mframe_cls\u001b[49m\u001b[43m(\u001b[49m\u001b[38;5;241;43m*\u001b[39;49m\u001b[38;5;241;43m*\u001b[39;49m\u001b[43mframe_kwargs\u001b[49m\u001b[43m)\u001b[49m\u001b[43m,\u001b[49m\u001b[43m \u001b[49m\u001b[43margs\u001b[49m\u001b[43m,\u001b[49m\u001b[43m \u001b[49m\u001b[43mkwargs\u001b[49m\u001b[43m)\u001b[49m\n\u001b[1;32m    334\u001b[0m \u001b[38;5;66;03m# In the above two parsing functions, these kwargs were identified\u001b[39;00m\n\u001b[1;32m    335\u001b[0m \u001b[38;5;66;03m# as valid frame attributes for *some* frame, but not the frame that\u001b[39;00m\n\u001b[1;32m    336\u001b[0m \u001b[38;5;66;03m# this SkyCoord will have. We keep these attributes as special\u001b[39;00m\n\u001b[1;32m    337\u001b[0m \u001b[38;5;66;03m# skycoord frame attributes:\u001b[39;00m\n\u001b[1;32m    338\u001b[0m \u001b[38;5;28;01mfor\u001b[39;00m attr \u001b[38;5;129;01min\u001b[39;00m skycoord_kwargs:\n\u001b[1;32m    339\u001b[0m     \u001b[38;5;66;03m# Setting it will also validate it.\u001b[39;00m\n",
      "File \u001b[0;32m/projects/HSC/LSST/stack_20220527/conda/envs/lsst-scipipe-4.1.0/lib/python3.10/site-packages/astropy/coordinates/sky_coordinate_parsers.py:296\u001b[0m, in \u001b[0;36m_parse_coordinate_data\u001b[0;34m(frame, args, kwargs)\u001b[0m\n\u001b[1;32m    293\u001b[0m     \u001b[38;5;28;01mfor\u001b[39;00m arg, frame_attr_name, repr_attr_name, unit \u001b[38;5;129;01min\u001b[39;00m \u001b[38;5;28mzip\u001b[39m(args, frame_attr_names,\n\u001b[1;32m    294\u001b[0m                                                           repr_attr_names, units):\n\u001b[1;32m    295\u001b[0m         attr_class \u001b[38;5;241m=\u001b[39m frame\u001b[38;5;241m.\u001b[39mrepresentation_type\u001b[38;5;241m.\u001b[39mattr_classes[repr_attr_name]\n\u001b[0;32m--> 296\u001b[0m         _components[frame_attr_name] \u001b[38;5;241m=\u001b[39m \u001b[43mattr_class\u001b[49m\u001b[43m(\u001b[49m\u001b[43marg\u001b[49m\u001b[43m,\u001b[49m\u001b[43m \u001b[49m\u001b[43munit\u001b[49m\u001b[38;5;241;43m=\u001b[39;49m\u001b[43munit\u001b[49m\u001b[43m)\u001b[49m\n\u001b[1;32m    298\u001b[0m \u001b[38;5;28;01melse\u001b[39;00m:\n\u001b[1;32m    299\u001b[0m     \u001b[38;5;28;01mraise\u001b[39;00m \u001b[38;5;167;01mValueError\u001b[39;00m(\u001b[38;5;124m'\u001b[39m\u001b[38;5;124mMust supply no more than three positional arguments, got \u001b[39m\u001b[38;5;132;01m{}\u001b[39;00m\u001b[38;5;124m'\u001b[39m\n\u001b[1;32m    300\u001b[0m                      \u001b[38;5;241m.\u001b[39mformat(\u001b[38;5;28mlen\u001b[39m(args)))\n",
      "File \u001b[0;32m/projects/HSC/LSST/stack_20220527/conda/envs/lsst-scipipe-4.1.0/lib/python3.10/site-packages/astropy/coordinates/angles.py:679\u001b[0m, in \u001b[0;36mLongitude.__new__\u001b[0;34m(cls, angle, unit, wrap_angle, **kwargs)\u001b[0m\n\u001b[1;32m    676\u001b[0m \u001b[38;5;28;01mif\u001b[39;00m \u001b[38;5;28misinstance\u001b[39m(angle, Latitude):\n\u001b[1;32m    677\u001b[0m     \u001b[38;5;28;01mraise\u001b[39;00m \u001b[38;5;167;01mTypeError\u001b[39;00m(\u001b[38;5;124m\"\u001b[39m\u001b[38;5;124mA Longitude angle cannot be created from \u001b[39m\u001b[38;5;124m\"\u001b[39m\n\u001b[1;32m    678\u001b[0m                     \u001b[38;5;124m\"\u001b[39m\u001b[38;5;124ma Latitude angle.\u001b[39m\u001b[38;5;124m\"\u001b[39m)\n\u001b[0;32m--> 679\u001b[0m \u001b[38;5;28mself\u001b[39m \u001b[38;5;241m=\u001b[39m \u001b[38;5;28;43msuper\u001b[39;49m\u001b[43m(\u001b[49m\u001b[43m)\u001b[49m\u001b[38;5;241;43m.\u001b[39;49m\u001b[38;5;21;43m__new__\u001b[39;49m\u001b[43m(\u001b[49m\u001b[38;5;28;43mcls\u001b[39;49m\u001b[43m,\u001b[49m\u001b[43m \u001b[49m\u001b[43mangle\u001b[49m\u001b[43m,\u001b[49m\u001b[43m \u001b[49m\u001b[43munit\u001b[49m\u001b[38;5;241;43m=\u001b[39;49m\u001b[43munit\u001b[49m\u001b[43m,\u001b[49m\u001b[43m \u001b[49m\u001b[38;5;241;43m*\u001b[39;49m\u001b[38;5;241;43m*\u001b[39;49m\u001b[43mkwargs\u001b[49m\u001b[43m)\u001b[49m\n\u001b[1;32m    680\u001b[0m \u001b[38;5;28;01mif\u001b[39;00m wrap_angle \u001b[38;5;129;01mis\u001b[39;00m \u001b[38;5;28;01mNone\u001b[39;00m:\n\u001b[1;32m    681\u001b[0m     wrap_angle \u001b[38;5;241m=\u001b[39m \u001b[38;5;28mgetattr\u001b[39m(angle, \u001b[38;5;124m'\u001b[39m\u001b[38;5;124mwrap_angle\u001b[39m\u001b[38;5;124m'\u001b[39m, \u001b[38;5;28mself\u001b[39m\u001b[38;5;241m.\u001b[39m_default_wrap_angle)\n",
      "File \u001b[0;32m/projects/HSC/LSST/stack_20220527/conda/envs/lsst-scipipe-4.1.0/lib/python3.10/site-packages/astropy/coordinates/angles.py:140\u001b[0m, in \u001b[0;36mAngle.__new__\u001b[0;34m(cls, angle, unit, dtype, copy, **kwargs)\u001b[0m\n\u001b[1;32m    135\u001b[0m             angle \u001b[38;5;241m=\u001b[39m u\u001b[38;5;241m.\u001b[39mQuantity(angle, angle_unit, copy\u001b[38;5;241m=\u001b[39m\u001b[38;5;28;01mFalse\u001b[39;00m)\n\u001b[1;32m    137\u001b[0m     \u001b[38;5;28;01melif\u001b[39;00m (isiterable(angle) \u001b[38;5;129;01mand\u001b[39;00m\n\u001b[1;32m    138\u001b[0m           \u001b[38;5;129;01mnot\u001b[39;00m (\u001b[38;5;28misinstance\u001b[39m(angle, np\u001b[38;5;241m.\u001b[39mndarray) \u001b[38;5;129;01mand\u001b[39;00m\n\u001b[1;32m    139\u001b[0m                angle\u001b[38;5;241m.\u001b[39mdtype\u001b[38;5;241m.\u001b[39mkind \u001b[38;5;129;01mnot\u001b[39;00m \u001b[38;5;129;01min\u001b[39;00m \u001b[38;5;124m'\u001b[39m\u001b[38;5;124mSUVO\u001b[39m\u001b[38;5;124m'\u001b[39m)):\n\u001b[0;32m--> 140\u001b[0m         angle \u001b[38;5;241m=\u001b[39m [Angle(x, unit, copy\u001b[38;5;241m=\u001b[39m\u001b[38;5;28;01mFalse\u001b[39;00m) \u001b[38;5;28;01mfor\u001b[39;00m x \u001b[38;5;129;01min\u001b[39;00m angle]\n\u001b[1;32m    142\u001b[0m \u001b[38;5;28;01mreturn\u001b[39;00m \u001b[38;5;28msuper\u001b[39m()\u001b[38;5;241m.\u001b[39m\u001b[38;5;21m__new__\u001b[39m(\u001b[38;5;28mcls\u001b[39m, angle, unit, dtype\u001b[38;5;241m=\u001b[39mdtype, copy\u001b[38;5;241m=\u001b[39mcopy,\n\u001b[1;32m    143\u001b[0m                        \u001b[38;5;241m*\u001b[39m\u001b[38;5;241m*\u001b[39mkwargs)\n",
      "File \u001b[0;32m/projects/HSC/LSST/stack_20220527/conda/envs/lsst-scipipe-4.1.0/lib/python3.10/site-packages/astropy/coordinates/angles.py:140\u001b[0m, in \u001b[0;36m<listcomp>\u001b[0;34m(.0)\u001b[0m\n\u001b[1;32m    135\u001b[0m             angle \u001b[38;5;241m=\u001b[39m u\u001b[38;5;241m.\u001b[39mQuantity(angle, angle_unit, copy\u001b[38;5;241m=\u001b[39m\u001b[38;5;28;01mFalse\u001b[39;00m)\n\u001b[1;32m    137\u001b[0m     \u001b[38;5;28;01melif\u001b[39;00m (isiterable(angle) \u001b[38;5;129;01mand\u001b[39;00m\n\u001b[1;32m    138\u001b[0m           \u001b[38;5;129;01mnot\u001b[39;00m (\u001b[38;5;28misinstance\u001b[39m(angle, np\u001b[38;5;241m.\u001b[39mndarray) \u001b[38;5;129;01mand\u001b[39;00m\n\u001b[1;32m    139\u001b[0m                angle\u001b[38;5;241m.\u001b[39mdtype\u001b[38;5;241m.\u001b[39mkind \u001b[38;5;129;01mnot\u001b[39;00m \u001b[38;5;129;01min\u001b[39;00m \u001b[38;5;124m'\u001b[39m\u001b[38;5;124mSUVO\u001b[39m\u001b[38;5;124m'\u001b[39m)):\n\u001b[0;32m--> 140\u001b[0m         angle \u001b[38;5;241m=\u001b[39m [\u001b[43mAngle\u001b[49m\u001b[43m(\u001b[49m\u001b[43mx\u001b[49m\u001b[43m,\u001b[49m\u001b[43m \u001b[49m\u001b[43munit\u001b[49m\u001b[43m,\u001b[49m\u001b[43m \u001b[49m\u001b[43mcopy\u001b[49m\u001b[38;5;241;43m=\u001b[39;49m\u001b[38;5;28;43;01mFalse\u001b[39;49;00m\u001b[43m)\u001b[49m \u001b[38;5;28;01mfor\u001b[39;00m x \u001b[38;5;129;01min\u001b[39;00m angle]\n\u001b[1;32m    142\u001b[0m \u001b[38;5;28;01mreturn\u001b[39;00m \u001b[38;5;28msuper\u001b[39m()\u001b[38;5;241m.\u001b[39m\u001b[38;5;21m__new__\u001b[39m(\u001b[38;5;28mcls\u001b[39m, angle, unit, dtype\u001b[38;5;241m=\u001b[39mdtype, copy\u001b[38;5;241m=\u001b[39mcopy,\n\u001b[1;32m    143\u001b[0m                        \u001b[38;5;241m*\u001b[39m\u001b[38;5;241m*\u001b[39mkwargs)\n",
      "File \u001b[0;32m/projects/HSC/LSST/stack_20220527/conda/envs/lsst-scipipe-4.1.0/lib/python3.10/site-packages/astropy/coordinates/angles.py:142\u001b[0m, in \u001b[0;36mAngle.__new__\u001b[0;34m(cls, angle, unit, dtype, copy, **kwargs)\u001b[0m\n\u001b[1;32m    137\u001b[0m     \u001b[38;5;28;01melif\u001b[39;00m (isiterable(angle) \u001b[38;5;129;01mand\u001b[39;00m\n\u001b[1;32m    138\u001b[0m           \u001b[38;5;129;01mnot\u001b[39;00m (\u001b[38;5;28misinstance\u001b[39m(angle, np\u001b[38;5;241m.\u001b[39mndarray) \u001b[38;5;129;01mand\u001b[39;00m\n\u001b[1;32m    139\u001b[0m                angle\u001b[38;5;241m.\u001b[39mdtype\u001b[38;5;241m.\u001b[39mkind \u001b[38;5;129;01mnot\u001b[39;00m \u001b[38;5;129;01min\u001b[39;00m \u001b[38;5;124m'\u001b[39m\u001b[38;5;124mSUVO\u001b[39m\u001b[38;5;124m'\u001b[39m)):\n\u001b[1;32m    140\u001b[0m         angle \u001b[38;5;241m=\u001b[39m [Angle(x, unit, copy\u001b[38;5;241m=\u001b[39m\u001b[38;5;28;01mFalse\u001b[39;00m) \u001b[38;5;28;01mfor\u001b[39;00m x \u001b[38;5;129;01min\u001b[39;00m angle]\n\u001b[0;32m--> 142\u001b[0m \u001b[38;5;28;01mreturn\u001b[39;00m \u001b[38;5;28;43msuper\u001b[39;49m\u001b[43m(\u001b[49m\u001b[43m)\u001b[49m\u001b[38;5;241;43m.\u001b[39;49m\u001b[38;5;21;43m__new__\u001b[39;49m\u001b[43m(\u001b[49m\u001b[38;5;28;43mcls\u001b[39;49m\u001b[43m,\u001b[49m\u001b[43m \u001b[49m\u001b[43mangle\u001b[49m\u001b[43m,\u001b[49m\u001b[43m \u001b[49m\u001b[43munit\u001b[49m\u001b[43m,\u001b[49m\u001b[43m \u001b[49m\u001b[43mdtype\u001b[49m\u001b[38;5;241;43m=\u001b[39;49m\u001b[43mdtype\u001b[49m\u001b[43m,\u001b[49m\u001b[43m \u001b[49m\u001b[43mcopy\u001b[49m\u001b[38;5;241;43m=\u001b[39;49m\u001b[43mcopy\u001b[49m\u001b[43m,\u001b[49m\n\u001b[1;32m    143\u001b[0m \u001b[43m                       \u001b[49m\u001b[38;5;241;43m*\u001b[39;49m\u001b[38;5;241;43m*\u001b[39;49m\u001b[43mkwargs\u001b[49m\u001b[43m)\u001b[49m\n",
      "File \u001b[0;32m/projects/HSC/LSST/stack_20220527/conda/envs/lsst-scipipe-4.1.0/lib/python3.10/site-packages/astropy/units/quantity.py:523\u001b[0m, in \u001b[0;36mQuantity.__new__\u001b[0;34m(cls, value, unit, dtype, copy, order, subok, ndmin)\u001b[0m\n\u001b[1;32m    520\u001b[0m         \u001b[38;5;28mcls\u001b[39m \u001b[38;5;241m=\u001b[39m qcls\n\u001b[1;32m    522\u001b[0m value \u001b[38;5;241m=\u001b[39m value\u001b[38;5;241m.\u001b[39mview(\u001b[38;5;28mcls\u001b[39m)\n\u001b[0;32m--> 523\u001b[0m \u001b[43mvalue\u001b[49m\u001b[38;5;241;43m.\u001b[39;49m\u001b[43m_set_unit\u001b[49m\u001b[43m(\u001b[49m\u001b[43mvalue_unit\u001b[49m\u001b[43m)\u001b[49m\n\u001b[1;32m    524\u001b[0m \u001b[38;5;28;01mif\u001b[39;00m unit \u001b[38;5;129;01mis\u001b[39;00m value_unit:\n\u001b[1;32m    525\u001b[0m     \u001b[38;5;28;01mreturn\u001b[39;00m value\n",
      "File \u001b[0;32m/projects/HSC/LSST/stack_20220527/conda/envs/lsst-scipipe-4.1.0/lib/python3.10/site-packages/astropy/coordinates/angles.py:164\u001b[0m, in \u001b[0;36mAngle._set_unit\u001b[0;34m(self, unit)\u001b[0m\n\u001b[1;32m    163\u001b[0m \u001b[38;5;28;01mdef\u001b[39;00m \u001b[38;5;21m_set_unit\u001b[39m(\u001b[38;5;28mself\u001b[39m, unit):\n\u001b[0;32m--> 164\u001b[0m     \u001b[38;5;28;43msuper\u001b[39;49m\u001b[43m(\u001b[49m\u001b[43m)\u001b[49m\u001b[38;5;241;43m.\u001b[39;49m\u001b[43m_set_unit\u001b[49m\u001b[43m(\u001b[49m\u001b[38;5;28;43mself\u001b[39;49m\u001b[38;5;241;43m.\u001b[39;49m\u001b[43m_convert_unit_to_angle_unit\u001b[49m\u001b[43m(\u001b[49m\u001b[43munit\u001b[49m\u001b[43m)\u001b[49m\u001b[43m)\u001b[49m\n",
      "File \u001b[0;32m/projects/HSC/LSST/stack_20220527/conda/envs/lsst-scipipe-4.1.0/lib/python3.10/site-packages/astropy/units/quantity.py:1937\u001b[0m, in \u001b[0;36mSpecificTypeQuantity._set_unit\u001b[0;34m(self, unit)\u001b[0m\n\u001b[1;32m   1936\u001b[0m \u001b[38;5;28;01mdef\u001b[39;00m \u001b[38;5;21m_set_unit\u001b[39m(\u001b[38;5;28mself\u001b[39m, unit):\n\u001b[0;32m-> 1937\u001b[0m     \u001b[38;5;28;01mif\u001b[39;00m unit \u001b[38;5;129;01mis\u001b[39;00m \u001b[38;5;28;01mNone\u001b[39;00m \u001b[38;5;129;01mor\u001b[39;00m \u001b[38;5;129;01mnot\u001b[39;00m \u001b[43munit\u001b[49m\u001b[38;5;241;43m.\u001b[39;49m\u001b[43mis_equivalent\u001b[49m\u001b[43m(\u001b[49m\u001b[38;5;28;43mself\u001b[39;49m\u001b[38;5;241;43m.\u001b[39;49m\u001b[43m_equivalent_unit\u001b[49m\u001b[43m)\u001b[49m:\n\u001b[1;32m   1938\u001b[0m         \u001b[38;5;28;01mraise\u001b[39;00m UnitTypeError(\n\u001b[1;32m   1939\u001b[0m             \u001b[38;5;124m\"\u001b[39m\u001b[38;5;132;01m{}\u001b[39;00m\u001b[38;5;124m instances require units equivalent to \u001b[39m\u001b[38;5;124m'\u001b[39m\u001b[38;5;132;01m{}\u001b[39;00m\u001b[38;5;124m'\u001b[39m\u001b[38;5;124m\"\u001b[39m\n\u001b[1;32m   1940\u001b[0m             \u001b[38;5;241m.\u001b[39mformat(\u001b[38;5;28mtype\u001b[39m(\u001b[38;5;28mself\u001b[39m)\u001b[38;5;241m.\u001b[39m\u001b[38;5;18m__name__\u001b[39m, \u001b[38;5;28mself\u001b[39m\u001b[38;5;241m.\u001b[39m_equivalent_unit) \u001b[38;5;241m+\u001b[39m\n\u001b[1;32m   1941\u001b[0m             (\u001b[38;5;124m\"\u001b[39m\u001b[38;5;124m, but no unit was given.\u001b[39m\u001b[38;5;124m\"\u001b[39m \u001b[38;5;28;01mif\u001b[39;00m unit \u001b[38;5;129;01mis\u001b[39;00m \u001b[38;5;28;01mNone\u001b[39;00m \u001b[38;5;28;01melse\u001b[39;00m\n\u001b[1;32m   1942\u001b[0m              \u001b[38;5;124mf\u001b[39m\u001b[38;5;124m\"\u001b[39m\u001b[38;5;124m, so cannot set it to \u001b[39m\u001b[38;5;124m'\u001b[39m\u001b[38;5;132;01m{\u001b[39;00munit\u001b[38;5;132;01m}\u001b[39;00m\u001b[38;5;124m'\u001b[39m\u001b[38;5;124m.\u001b[39m\u001b[38;5;124m\"\u001b[39m))\n\u001b[1;32m   1944\u001b[0m     \u001b[38;5;28msuper\u001b[39m()\u001b[38;5;241m.\u001b[39m_set_unit(unit)\n",
      "File \u001b[0;32m/projects/HSC/LSST/stack_20220527/conda/envs/lsst-scipipe-4.1.0/lib/python3.10/site-packages/astropy/units/core.py:943\u001b[0m, in \u001b[0;36mUnitBase.is_equivalent\u001b[0;34m(self, other, equivalencies)\u001b[0m\n\u001b[1;32m    939\u001b[0m \u001b[38;5;28;01mif\u001b[39;00m \u001b[38;5;28misinstance\u001b[39m(other, \u001b[38;5;28mtuple\u001b[39m):\n\u001b[1;32m    940\u001b[0m     \u001b[38;5;28;01mreturn\u001b[39;00m \u001b[38;5;28many\u001b[39m(\u001b[38;5;28mself\u001b[39m\u001b[38;5;241m.\u001b[39mis_equivalent(u, equivalencies\u001b[38;5;241m=\u001b[39mequivalencies)\n\u001b[1;32m    941\u001b[0m                \u001b[38;5;28;01mfor\u001b[39;00m u \u001b[38;5;129;01min\u001b[39;00m other)\n\u001b[0;32m--> 943\u001b[0m other \u001b[38;5;241m=\u001b[39m \u001b[43mUnit\u001b[49m\u001b[43m(\u001b[49m\u001b[43mother\u001b[49m\u001b[43m,\u001b[49m\u001b[43m \u001b[49m\u001b[43mparse_strict\u001b[49m\u001b[38;5;241;43m=\u001b[39;49m\u001b[38;5;124;43m'\u001b[39;49m\u001b[38;5;124;43msilent\u001b[39;49m\u001b[38;5;124;43m'\u001b[39;49m\u001b[43m)\u001b[49m\n\u001b[1;32m    945\u001b[0m \u001b[38;5;28;01mreturn\u001b[39;00m \u001b[38;5;28mself\u001b[39m\u001b[38;5;241m.\u001b[39m_is_equivalent(other, equivalencies)\n",
      "\u001b[0;31mKeyboardInterrupt\u001b[0m: "
     ]
    }
   ],
   "source": [
    "mcoords = coordinates.SkyCoord ( stripped['coord_ra_Merian'], stripped['coord_dec_Merian'], unit=u.deg )"
   ]
  },
  {
   "cell_type": "code",
   "execution_count": 348,
   "id": "0fbae7c7-988e-45d4-97b1-02c934d4b702",
   "metadata": {},
   "outputs": [],
   "source": [
    "idx, d2d, _ = acoords.match_to_catalog_sky ( mcoords )"
   ]
  },
  {
   "cell_type": "code",
   "execution_count": 349,
   "id": "882a87a7-a5a4-47b5-90b9-b99613878145",
   "metadata": {},
   "outputs": [],
   "source": [
    "in_merian_field = d2d < (10.*u.arcmin)"
   ]
  },
  {
   "cell_type": "code",
   "execution_count": 354,
   "id": "dccf4d6f-79c9-450d-aa37-d82ad3755dae",
   "metadata": {},
   "outputs": [],
   "source": [
    "in_merian_range = (alfalfa['z']>0.05)"
   ]
  },
  {
   "cell_type": "code",
   "execution_count": 355,
   "id": "7b1e4a1c-69dc-4bdd-96af-d40ef1425f0d",
   "metadata": {},
   "outputs": [
    {
     "data": {
      "text/plain": [
       "56"
      ]
     },
     "execution_count": 355,
     "metadata": {},
     "output_type": "execute_result"
    }
   ],
   "source": [
    "(in_merian_field&in_merian_range).sum()"
   ]
  },
  {
   "cell_type": "code",
   "execution_count": 356,
   "id": "2f798ff2-1c67-4f75-80e6-50016211033b",
   "metadata": {},
   "outputs": [
    {
     "name": "stdout",
     "output_type": "stream",
     "text": [
      "130.13624999999996 2.176111111111111\n",
      "130.9395833333333 4.583333333333333\n",
      "131.88666666666663 0.5505555555555556\n",
      "132.00541666666666 4.258055555555556\n",
      "132.26916666666665 4.3277777777777775\n",
      "133.45416666666662 0.22722222222222224\n",
      "133.56375 2.2330555555555556\n",
      "133.685 1.107777777777778\n",
      "134.39999999999998 2.25\n",
      "135.23125 2.1941666666666664\n",
      "135.3825 2.163611111111111\n",
      "135.5370833333333 3.8672222222222223\n",
      "135.78541666666666 4.685555555555556\n",
      "135.97916666666666 4.579166666666667\n",
      "136.02499999999998 2.794722222222222\n",
      "136.05499999999998 3.875\n",
      "136.09624999999997 4.019166666666667\n",
      "136.84583333333333 4.0777777777777775\n",
      "137.45874999999998 0.42000000000000004\n",
      "138.54416666666665 0.8325\n",
      "138.72291666666663 4.641111111111111\n",
      "138.74041666666665 4.684722222222223\n",
      "138.80083333333332 1.5005555555555556\n",
      "138.97458333333333 3.37\n",
      "139.33916666666667 0.31916666666666665\n",
      "140.5425 3.9675000000000002\n",
      "140.67291666666665 2.107222222222222\n",
      "140.87041666666664 4.005277777777778\n",
      "140.95041666666665 1.7513888888888889\n",
      "141.4295833333333 2.2405555555555554\n",
      "142.31249999999997 2.2736111111111112\n",
      "142.5233333333333 2.3866666666666667\n",
      "143.90374999999997 2.9394444444444447\n",
      "149.07166666666663 3.7741666666666664\n",
      "150.6733333333333 4.039166666666667\n",
      "150.6820833333333 4.038888888888889\n",
      "150.80083333333332 4.191944444444444\n",
      "154.07333333333332 4.383888888888889\n",
      "154.08666666666667 4.309444444444444\n",
      "154.25791666666666 2.0097222222222224\n",
      "154.6925 1.669722222222222\n",
      "154.87583333333333 1.9088888888888889\n",
      "155.1675 0.004722222222222222\n",
      "155.17666666666668 2.5969444444444445\n",
      "157.1533333333333 3.9733333333333336\n",
      "157.25166666666664 4.6530555555555555\n",
      "157.43124999999998 4.185277777777778\n",
      "157.66958333333332 1.4041666666666666\n",
      "159.12541666666664 2.386111111111111\n",
      "160.17041666666663 2.0991666666666666\n",
      "160.48833333333332 3.8530555555555557\n",
      "172.55541666666664 1.8294444444444444\n",
      "177.19666666666666 4.015\n",
      "184.0258333333333 1.186388888888889\n",
      "338.99125 0.918611111111111\n",
      "359.82374999999996 0.8397222222222223\n"
     ]
    }
   ],
   "source": [
    "#matchids = idx[in_merian_field&in_merian_range]\n",
    "for idx,row in enumerate(acoords[in_merian_field&in_merian_range]):\n",
    "    print ( f\"{row.ra.value} {row.dec.value}\")"
   ]
  },
  {
   "cell_type": "code",
   "execution_count": 360,
   "id": "dac7d929-a6b4-43a1-8610-1e91bc0982bb",
   "metadata": {},
   "outputs": [],
   "source": [
    "from matplotlib import patches"
   ]
  },
  {
   "cell_type": "code",
   "execution_count": 362,
   "id": "97b1e0af-00c2-4e31-adec-b38ea721a3d3",
   "metadata": {},
   "outputs": [
    {
     "data": {
      "text/plain": [
       "<matplotlib.collections.PathCollection at 0x2ac632705270>"
      ]
     },
     "execution_count": 362,
     "metadata": {},
     "output_type": "execute_result"
    },
    {
     "data": {
      "image/png": "[encoded data removed]",
      "text/plain": [
       "<Figure size 1440x360 with 1 Axes>"
      ]
     },
     "metadata": {
      "needs_background": "light"
     },
     "output_type": "display_data"
    }
   ],
   "source": [
    "plt.figure(figsize=(20,5))\n",
    "ax = plt.subplot(111)\n",
    "\n",
    "plt.scatter ( stripped['coord_ra_Merian'], stripped['coord_dec_Merian'], s=1 )\n",
    "plt.scatter ( acoords[in_merian_field].ra, acoords[in_merian_field].dec,s=1 )\n",
    "\n"
   ]
  },
  {
   "cell_type": "code",
   "execution_count": 359,
   "id": "fe2d7425-4ced-45bf-95e8-cb4bf7a53f2b",
   "metadata": {},
   "outputs": [
    {
     "data": {
      "text/latex": [
       "$180.46667 \\; \\mathrm{{}^{\\circ}}$"
      ],
      "text/plain": [
       "<Quantity 180.46666667 deg>"
      ]
     },
     "execution_count": 359,
     "metadata": {},
     "output_type": "execute_result"
    }
   ],
   "source": [
    "(12*u.hourangle + 28. * u.arcmin).to(u.deg)"
   ]
  },
  {
   "cell_type": "code",
   "execution_count": null,
   "id": "dc1cd2ae-b928-41b2-b312-3b3bb73719ab",
   "metadata": {},
   "outputs": [],
   "source": []
  }
 ],
 "metadata": {
  "kernelspec": {
   "display_name": "Python 3 (ipykernel)",
   "language": "python",
   "name": "python3"
  },
  "language_info": {
   "codemirror_mode": {
    "name": "ipython",
    "version": 3
   },
   "file_extension": ".py",
   "mimetype": "text/x-python",
   "name": "python",
   "nbconvert_exporter": "python",
   "pygments_lexer": "ipython3",
   "version": "3.10.5"
  }
 },
 "nbformat": 4,
 "nbformat_minor": 5
}
